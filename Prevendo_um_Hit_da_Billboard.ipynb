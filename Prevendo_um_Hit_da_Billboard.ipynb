{
 "cells": [
  {
   "cell_type": "code",
   "execution_count": 1,
   "metadata": {
    "id": "qwX9lTnUd8AB"
   },
   "outputs": [],
   "source": [
    "import numpy as np\n",
    "import pandas as pd\n",
    "import matplotlib.pyplot as plt\n",
    "import seaborn as sns\n",
    "%matplotlib inline"
   ]
  },
  {
   "cell_type": "code",
   "execution_count": 2,
   "metadata": {
    "colab": {
     "base_uri": "https://localhost:8080/",
     "height": 360
    },
    "id": "fDyDhELkhjmI",
    "outputId": "fb23d880-49d0-4927-9294-b3f360e19531"
   },
   "outputs": [
    {
     "data": {
      "text/html": [
       "<div>\n",
       "<style scoped>\n",
       "    .dataframe tbody tr th:only-of-type {\n",
       "        vertical-align: middle;\n",
       "    }\n",
       "\n",
       "    .dataframe tbody tr th {\n",
       "        vertical-align: top;\n",
       "    }\n",
       "\n",
       "    .dataframe thead th {\n",
       "        text-align: right;\n",
       "    }\n",
       "</style>\n",
       "<table border=\"1\" class=\"dataframe\">\n",
       "  <thead>\n",
       "    <tr style=\"text-align: right;\">\n",
       "      <th></th>\n",
       "      <th>track</th>\n",
       "      <th>artist</th>\n",
       "      <th>uri</th>\n",
       "      <th>danceability</th>\n",
       "      <th>energy</th>\n",
       "      <th>key</th>\n",
       "      <th>loudness</th>\n",
       "      <th>mode</th>\n",
       "      <th>speechiness</th>\n",
       "      <th>acousticness</th>\n",
       "      <th>instrumentalness</th>\n",
       "      <th>liveness</th>\n",
       "      <th>valence</th>\n",
       "      <th>tempo</th>\n",
       "      <th>duration_ms</th>\n",
       "      <th>time_signature</th>\n",
       "      <th>chorus_hit</th>\n",
       "      <th>sections</th>\n",
       "      <th>target</th>\n",
       "    </tr>\n",
       "  </thead>\n",
       "  <tbody>\n",
       "    <tr>\n",
       "      <th>0</th>\n",
       "      <td>Wild Things</td>\n",
       "      <td>Alessia Cara</td>\n",
       "      <td>spotify:track:2ZyuwVvV6Z3XJaXIFbspeE</td>\n",
       "      <td>0.741</td>\n",
       "      <td>0.626</td>\n",
       "      <td>1</td>\n",
       "      <td>-4.826</td>\n",
       "      <td>0</td>\n",
       "      <td>0.0886</td>\n",
       "      <td>0.02000</td>\n",
       "      <td>0.000</td>\n",
       "      <td>0.0828</td>\n",
       "      <td>0.706</td>\n",
       "      <td>108.029</td>\n",
       "      <td>188493</td>\n",
       "      <td>4</td>\n",
       "      <td>41.18681</td>\n",
       "      <td>10</td>\n",
       "      <td>1</td>\n",
       "    </tr>\n",
       "    <tr>\n",
       "      <th>1</th>\n",
       "      <td>Surfboard</td>\n",
       "      <td>Esquivel!</td>\n",
       "      <td>spotify:track:61APOtq25SCMuK0V5w2Kgp</td>\n",
       "      <td>0.447</td>\n",
       "      <td>0.247</td>\n",
       "      <td>5</td>\n",
       "      <td>-14.661</td>\n",
       "      <td>0</td>\n",
       "      <td>0.0346</td>\n",
       "      <td>0.87100</td>\n",
       "      <td>0.814</td>\n",
       "      <td>0.0946</td>\n",
       "      <td>0.250</td>\n",
       "      <td>155.489</td>\n",
       "      <td>176880</td>\n",
       "      <td>3</td>\n",
       "      <td>33.18083</td>\n",
       "      <td>9</td>\n",
       "      <td>0</td>\n",
       "    </tr>\n",
       "    <tr>\n",
       "      <th>2</th>\n",
       "      <td>Love Someone</td>\n",
       "      <td>Lukas Graham</td>\n",
       "      <td>spotify:track:2JqnpexlO9dmvjUMCaLCLJ</td>\n",
       "      <td>0.550</td>\n",
       "      <td>0.415</td>\n",
       "      <td>9</td>\n",
       "      <td>-6.557</td>\n",
       "      <td>0</td>\n",
       "      <td>0.0520</td>\n",
       "      <td>0.16100</td>\n",
       "      <td>0.000</td>\n",
       "      <td>0.1080</td>\n",
       "      <td>0.274</td>\n",
       "      <td>172.065</td>\n",
       "      <td>205463</td>\n",
       "      <td>4</td>\n",
       "      <td>44.89147</td>\n",
       "      <td>9</td>\n",
       "      <td>1</td>\n",
       "    </tr>\n",
       "    <tr>\n",
       "      <th>3</th>\n",
       "      <td>Music To My Ears (feat. Tory Lanez)</td>\n",
       "      <td>Keys N Krates</td>\n",
       "      <td>spotify:track:0cjfLhk8WJ3etPTCseKXtk</td>\n",
       "      <td>0.502</td>\n",
       "      <td>0.648</td>\n",
       "      <td>0</td>\n",
       "      <td>-5.698</td>\n",
       "      <td>0</td>\n",
       "      <td>0.0527</td>\n",
       "      <td>0.00513</td>\n",
       "      <td>0.000</td>\n",
       "      <td>0.2040</td>\n",
       "      <td>0.291</td>\n",
       "      <td>91.837</td>\n",
       "      <td>193043</td>\n",
       "      <td>4</td>\n",
       "      <td>29.52521</td>\n",
       "      <td>7</td>\n",
       "      <td>0</td>\n",
       "    </tr>\n",
       "    <tr>\n",
       "      <th>4</th>\n",
       "      <td>Juju On That Beat (TZ Anthem)</td>\n",
       "      <td>Zay Hilfigerrr &amp; Zayion McCall</td>\n",
       "      <td>spotify:track:1lItf5ZXJc1by9SbPeljFd</td>\n",
       "      <td>0.807</td>\n",
       "      <td>0.887</td>\n",
       "      <td>1</td>\n",
       "      <td>-3.892</td>\n",
       "      <td>1</td>\n",
       "      <td>0.2750</td>\n",
       "      <td>0.00381</td>\n",
       "      <td>0.000</td>\n",
       "      <td>0.3910</td>\n",
       "      <td>0.780</td>\n",
       "      <td>160.517</td>\n",
       "      <td>144244</td>\n",
       "      <td>4</td>\n",
       "      <td>24.99199</td>\n",
       "      <td>8</td>\n",
       "      <td>1</td>\n",
       "    </tr>\n",
       "  </tbody>\n",
       "</table>\n",
       "</div>"
      ],
      "text/plain": [
       "                                 track                          artist  \\\n",
       "0                          Wild Things                    Alessia Cara   \n",
       "1                            Surfboard                       Esquivel!   \n",
       "2                         Love Someone                    Lukas Graham   \n",
       "3  Music To My Ears (feat. Tory Lanez)                   Keys N Krates   \n",
       "4        Juju On That Beat (TZ Anthem)  Zay Hilfigerrr & Zayion McCall   \n",
       "\n",
       "                                    uri  danceability  energy  key  loudness  \\\n",
       "0  spotify:track:2ZyuwVvV6Z3XJaXIFbspeE         0.741   0.626    1    -4.826   \n",
       "1  spotify:track:61APOtq25SCMuK0V5w2Kgp         0.447   0.247    5   -14.661   \n",
       "2  spotify:track:2JqnpexlO9dmvjUMCaLCLJ         0.550   0.415    9    -6.557   \n",
       "3  spotify:track:0cjfLhk8WJ3etPTCseKXtk         0.502   0.648    0    -5.698   \n",
       "4  spotify:track:1lItf5ZXJc1by9SbPeljFd         0.807   0.887    1    -3.892   \n",
       "\n",
       "   mode  speechiness  acousticness  instrumentalness  liveness  valence  \\\n",
       "0     0       0.0886       0.02000             0.000    0.0828    0.706   \n",
       "1     0       0.0346       0.87100             0.814    0.0946    0.250   \n",
       "2     0       0.0520       0.16100             0.000    0.1080    0.274   \n",
       "3     0       0.0527       0.00513             0.000    0.2040    0.291   \n",
       "4     1       0.2750       0.00381             0.000    0.3910    0.780   \n",
       "\n",
       "     tempo  duration_ms  time_signature  chorus_hit  sections  target  \n",
       "0  108.029       188493               4    41.18681        10       1  \n",
       "1  155.489       176880               3    33.18083         9       0  \n",
       "2  172.065       205463               4    44.89147         9       1  \n",
       "3   91.837       193043               4    29.52521         7       0  \n",
       "4  160.517       144244               4    24.99199         8       1  "
      ]
     },
     "execution_count": 2,
     "metadata": {},
     "output_type": "execute_result"
    }
   ],
   "source": [
    "dataset = pd.read_csv('dataset.csv') \n",
    "dataset.head()"
   ]
  },
  {
   "cell_type": "code",
   "execution_count": 3,
   "metadata": {
    "id": "DKN5WFJ3yv-5"
   },
   "outputs": [
    {
     "data": {
      "text/plain": [
       "(6398, 19)"
      ]
     },
     "execution_count": 3,
     "metadata": {},
     "output_type": "execute_result"
    }
   ],
   "source": [
    "dataset.shape"
   ]
  },
  {
   "cell_type": "code",
   "execution_count": 4,
   "metadata": {
    "id": "uLfNao0EzLz5"
   },
   "outputs": [
    {
     "data": {
      "text/plain": [
       "1    3199\n",
       "0    3199\n",
       "Name: target, dtype: int64"
      ]
     },
     "execution_count": 4,
     "metadata": {},
     "output_type": "execute_result"
    }
   ],
   "source": [
    "dataset.target.value_counts()"
   ]
  },
  {
   "cell_type": "markdown",
   "metadata": {
    "id": "fhMEvZLZiANs"
   },
   "source": [
    "## Análise Exploratória"
   ]
  },
  {
   "cell_type": "code",
   "execution_count": 5,
   "metadata": {
    "colab": {
     "base_uri": "https://localhost:8080/",
     "height": 295
    },
    "id": "Z3MoFwEgxTv_",
    "outputId": "269059f9-b989-45d0-d3cf-fea7152d7199"
   },
   "outputs": [
    {
     "data": {
      "image/png": "[encoded data removed]",
      "text/plain": [
       "<Figure size 432x288 with 1 Axes>"
      ]
     },
     "metadata": {
      "needs_background": "light"
     },
     "output_type": "display_data"
    }
   ],
   "source": [
    "sns.countplot(x=dataset.target)\n",
    "plt.title('Balanceamento das classes')\n",
    "plt.show()"
   ]
  },
  {
   "cell_type": "code",
   "execution_count": 6,
   "metadata": {
    "colab": {
     "base_uri": "https://localhost:8080/"
    },
    "id": "bZUKQF4ziIqL",
    "outputId": "0fabf593-74a0-41de-f22a-8aa88b24b1c5"
   },
   "outputs": [
    {
     "data": {
      "text/plain": [
       "[]"
      ]
     },
     "execution_count": 6,
     "metadata": {},
     "output_type": "execute_result"
    }
   ],
   "source": [
    "features_with_na = [ feature for feature in dataset.columns if dataset[feature].isnull().sum() >1] \n",
    "features_with_na"
   ]
  },
  {
   "cell_type": "code",
   "execution_count": 7,
   "metadata": {
    "colab": {
     "base_uri": "https://localhost:8080/"
    },
    "id": "LxbNS1fEiL9C",
    "outputId": "94471bd3-53c3-4deb-8628-4e2a04e27314"
   },
   "outputs": [
    {
     "data": {
      "text/plain": [
       "track               0\n",
       "artist              0\n",
       "uri                 0\n",
       "danceability        0\n",
       "energy              0\n",
       "key                 0\n",
       "loudness            0\n",
       "mode                0\n",
       "speechiness         0\n",
       "acousticness        0\n",
       "instrumentalness    0\n",
       "liveness            0\n",
       "valence             0\n",
       "tempo               0\n",
       "duration_ms         0\n",
       "time_signature      0\n",
       "chorus_hit          0\n",
       "sections            0\n",
       "target              0\n",
       "dtype: int64"
      ]
     },
     "execution_count": 7,
     "metadata": {},
     "output_type": "execute_result"
    }
   ],
   "source": [
    "dataset.isnull().sum() #sem valores nulos"
   ]
  },
  {
   "cell_type": "code",
   "execution_count": 8,
   "metadata": {
    "colab": {
     "base_uri": "https://localhost:8080/"
    },
    "id": "LvbEFsrmiLtp",
    "outputId": "e928b1d4-9d4a-4f31-d8e4-fe22fa97b839"
   },
   "outputs": [
    {
     "data": {
      "text/plain": [
       "['danceability',\n",
       " 'energy',\n",
       " 'key',\n",
       " 'loudness',\n",
       " 'mode',\n",
       " 'speechiness',\n",
       " 'acousticness',\n",
       " 'instrumentalness',\n",
       " 'liveness',\n",
       " 'valence',\n",
       " 'tempo',\n",
       " 'duration_ms',\n",
       " 'time_signature',\n",
       " 'chorus_hit',\n",
       " 'sections',\n",
       " 'target']"
      ]
     },
     "execution_count": 8,
     "metadata": {},
     "output_type": "execute_result"
    }
   ],
   "source": [
    "numerical_feature = [ feature for feature in dataset.columns if dataset[feature].dtypes != \"O\"] \n",
    "numerical_feature"
   ]
  },
  {
   "cell_type": "code",
   "execution_count": 9,
   "metadata": {
    "colab": {
     "base_uri": "https://localhost:8080/"
    },
    "id": "WzwQHZXail11",
    "outputId": "00b722fd-2f55-4b02-cffa-ab0dbd12ddf4"
   },
   "outputs": [
    {
     "data": {
      "text/plain": [
       "['key', 'mode', 'time_signature', 'target']"
      ]
     },
     "execution_count": 9,
     "metadata": {},
     "output_type": "execute_result"
    }
   ],
   "source": [
    "discrete_feature = [feature for feature in numerical_feature if len(dataset[feature].unique()) <15] \n",
    "discrete_feature"
   ]
  },
  {
   "cell_type": "code",
   "execution_count": 10,
   "metadata": {
    "colab": {
     "base_uri": "https://localhost:8080/",
     "height": 1000
    },
    "id": "JuCt23mEiYzY",
    "outputId": "0a98ee2f-36e1-4837-ecc8-f8e8f0f32438"
   },
   "outputs": [
    {
     "data": {
      "image/png": "[encoded data removed]",
      "text/plain": [
       "<Figure size 432x288 with 1 Axes>"
      ]
     },
     "metadata": {
      "needs_background": "light"
     },
     "output_type": "display_data"
    },
    {
     "data": {
      "image/png": "[encoded data removed]",
      "text/plain": [
       "<Figure size 432x288 with 1 Axes>"
      ]
     },
     "metadata": {
      "needs_background": "light"
     },
     "output_type": "display_data"
    },
    {
     "data": {
      "image/png": "[encoded data removed]",
      "text/plain": [
       "<Figure size 432x288 with 1 Axes>"
      ]
     },
     "metadata": {
      "needs_background": "light"
     },
     "output_type": "display_data"
    },
    {
     "data": {
      "image/png": "[encoded data removed]",
      "text/plain": [
       "<Figure size 432x288 with 1 Axes>"
      ]
     },
     "metadata": {
      "needs_background": "light"
     },
     "output_type": "display_data"
    }
   ],
   "source": [
    "for feature in discrete_feature:\n",
    "    data = dataset.copy()\n",
    "    data.groupby(feature)[\"target\"].median().plot.bar()\n",
    "    plt.xlabel(feature)\n",
    "    plt.ylabel(\"target\")\n",
    "    plt.show()"
   ]
  },
  {
   "cell_type": "code",
   "execution_count": 11,
   "metadata": {
    "colab": {
     "base_uri": "https://localhost:8080/"
    },
    "id": "NDq8GbXTiwle",
    "outputId": "2c4a7143-3268-4874-f21c-27285667d590"
   },
   "outputs": [
    {
     "data": {
      "text/plain": [
       "['danceability',\n",
       " 'energy',\n",
       " 'loudness',\n",
       " 'speechiness',\n",
       " 'acousticness',\n",
       " 'instrumentalness',\n",
       " 'liveness',\n",
       " 'valence',\n",
       " 'tempo',\n",
       " 'duration_ms',\n",
       " 'chorus_hit',\n",
       " 'sections']"
      ]
     },
     "execution_count": 11,
     "metadata": {},
     "output_type": "execute_result"
    }
   ],
   "source": [
    "continuous_feature = [feature for feature in numerical_feature if feature not in discrete_feature]\n",
    "continuous_feature"
   ]
  },
  {
   "cell_type": "code",
   "execution_count": 12,
   "metadata": {
    "colab": {
     "base_uri": "https://localhost:8080/",
     "height": 1000
    },
    "id": "lPNlhGIdi1Hn",
    "outputId": "2131319b-8b93-40a7-9f5a-b88c29c93b7d"
   },
   "outputs": [
    {
     "data": {
      "image/png": "[encoded data removed]",
      "text/plain": [
       "<Figure size 432x288 with 1 Axes>"
      ]
     },
     "metadata": {
      "needs_background": "light"
     },
     "output_type": "display_data"
    },
    {
     "data": {
      "image/png": "[encoded data removed]",
      "text/plain": [
       "<Figure size 432x288 with 1 Axes>"
      ]
     },
     "metadata": {
      "needs_background": "light"
     },
     "output_type": "display_data"
    },
    {
     "data": {
      "image/png": "[encoded data removed]",
      "text/plain": [
       "<Figure size 432x288 with 1 Axes>"
      ]
     },
     "metadata": {
      "needs_background": "light"
     },
     "output_type": "display_data"
    },
    {
     "data": {
      "image/png": "[encoded data removed]",
      "text/plain": [
       "<Figure size 432x288 with 1 Axes>"
      ]
     },
     "metadata": {
      "needs_background": "light"
     },
     "output_type": "display_data"
    },
    {
     "data": {
      "image/png": "[encoded data removed]",
      "text/plain": [
       "<Figure size 432x288 with 1 Axes>"
      ]
     },
     "metadata": {
      "needs_background": "light"
     },
     "output_type": "display_data"
    },
    {
     "data": {
      "image/png": "[encoded data removed]",
      "text/plain": [
       "<Figure size 432x288 with 1 Axes>"
      ]
     },
     "metadata": {
      "needs_background": "light"
     },
     "output_type": "display_data"
    },
    {
     "data": {
      "image/png": "[encoded data removed]",
      "text/plain": [
       "<Figure size 432x288 with 1 Axes>"
      ]
     },
     "metadata": {
      "needs_background": "light"
     },
     "output_type": "display_data"
    },
    {
     "data": {
      "image/png": "[encoded data removed]",
      "text/plain": [
       "<Figure size 432x288 with 1 Axes>"
      ]
     },
     "metadata": {
      "needs_background": "light"
     },
     "output_type": "display_data"
    },
    {
     "data": {
      "image/png": "[encoded data removed]",
      "text/plain": [
       "<Figure size 432x288 with 1 Axes>"
      ]
     },
     "metadata": {
      "needs_background": "light"
     },
     "output_type": "display_data"
    },
    {
     "data": {
      "image/png": "[encoded data removed]",
      "text/plain": [
       "<Figure size 432x288 with 1 Axes>"
      ]
     },
     "metadata": {
      "needs_background": "light"
     },
     "output_type": "display_data"
    },
    {
     "data": {
      "image/png": "[encoded data removed]",
      "text/plain": [
       "<Figure size 432x288 with 1 Axes>"
      ]
     },
     "metadata": {
      "needs_background": "light"
     },
     "output_type": "display_data"
    },
    {
     "data": {
      "image/png": "[encoded data removed]",
      "text/plain": [
       "<Figure size 432x288 with 1 Axes>"
      ]
     },
     "metadata": {
      "needs_background": "light"
     },
     "output_type": "display_data"
    }
   ],
   "source": [
    "for feature in continuous_feature: \n",
    "    data = dataset.copy()\n",
    "    data[feature].hist(bins=20)\n",
    "    plt.xlabel(feature)\n",
    "    plt.ylabel(\"count\")\n",
    "    plt.show()"
   ]
  },
  {
   "cell_type": "code",
   "execution_count": 13,
   "metadata": {
    "colab": {
     "base_uri": "https://localhost:8080/",
     "height": 1000
    },
    "id": "gq26nGX7i7Ov",
    "outputId": "8b485901-a027-45a1-ba3c-7ed829faab08"
   },
   "outputs": [
    {
     "data": {
      "image/png": "[encoded data removed]",
      "text/plain": [
       "<Figure size 432x288 with 1 Axes>"
      ]
     },
     "metadata": {
      "needs_background": "light"
     },
     "output_type": "display_data"
    },
    {
     "data": {
      "image/png": "[encoded data removed]",
      "text/plain": [
       "<Figure size 432x288 with 1 Axes>"
      ]
     },
     "metadata": {
      "needs_background": "light"
     },
     "output_type": "display_data"
    },
    {
     "name": "stderr",
     "output_type": "stream",
     "text": [
      "C:\\Users\\Alane\\anaconda3\\lib\\site-packages\\pandas\\core\\series.py:679: RuntimeWarning: invalid value encountered in log\n",
      "  result = getattr(ufunc, method)(*inputs, **kwargs)\n"
     ]
    },
    {
     "data": {
      "image/png": "[encoded data removed]",
      "text/plain": [
       "<Figure size 432x288 with 1 Axes>"
      ]
     },
     "metadata": {
      "needs_background": "light"
     },
     "output_type": "display_data"
    },
    {
     "data": {
      "image/png": "[encoded data removed]",
      "text/plain": [
       "<Figure size 432x288 with 1 Axes>"
      ]
     },
     "metadata": {
      "needs_background": "light"
     },
     "output_type": "display_data"
    },
    {
     "data": {
      "image/png": "[encoded data removed]",
      "text/plain": [
       "<Figure size 432x288 with 1 Axes>"
      ]
     },
     "metadata": {
      "needs_background": "light"
     },
     "output_type": "display_data"
    },
    {
     "data": {
      "image/png": "[encoded data removed]",
      "text/plain": [
       "<Figure size 432x288 with 1 Axes>"
      ]
     },
     "metadata": {
      "needs_background": "light"
     },
     "output_type": "display_data"
    },
    {
     "data": {
      "image/png": "[encoded data removed]",
      "text/plain": [
       "<Figure size 432x288 with 1 Axes>"
      ]
     },
     "metadata": {
      "needs_background": "light"
     },
     "output_type": "display_data"
    },
    {
     "data": {
      "image/png": "[encoded data removed]",
      "text/plain": [
       "<Figure size 432x288 with 1 Axes>"
      ]
     },
     "metadata": {
      "needs_background": "light"
     },
     "output_type": "display_data"
    }
   ],
   "source": [
    "for feature in continuous_feature: \n",
    "    if 0 in data[feature].unique():\n",
    "        pass\n",
    "    else:\n",
    "        data[feature] = np.log(data[feature])\n",
    "        data[feature].hist(bins=20)\n",
    "        plt.xlabel(feature)\n",
    "        plt.ylabel(\"counts\")\n",
    "        plt.show()"
   ]
  },
  {
   "cell_type": "code",
   "execution_count": 14,
   "metadata": {
    "colab": {
     "base_uri": "https://localhost:8080/",
     "height": 266
    },
    "id": "70XCREDz5Cvr",
    "outputId": "41c02583-d208-43d2-acf5-7fcad6f306b6"
   },
   "outputs": [
    {
     "data": {
      "image/png": "[encoded data removed]",
      "text/plain": [
       "<Figure size 1440x360 with 1 Axes>"
      ]
     },
     "metadata": {
      "needs_background": "light"
     },
     "output_type": "display_data"
    }
   ],
   "source": [
    "plt.figure(figsize=(20,5))\n",
    "dataset.boxplot()\n",
    "plt.show()"
   ]
  },
  {
   "cell_type": "code",
   "execution_count": 15,
   "metadata": {
    "colab": {
     "base_uri": "https://localhost:8080/",
     "height": 1000
    },
    "id": "uDgSpnyei_RG",
    "outputId": "96f48ebe-8190-41ef-fd0f-0d5fea9aff76"
   },
   "outputs": [
    {
     "data": {
      "image/png": "[encoded data removed]",
      "text/plain": [
       "<Figure size 432x288 with 1 Axes>"
      ]
     },
     "metadata": {
      "needs_background": "light"
     },
     "output_type": "display_data"
    },
    {
     "data": {
      "image/png": "[encoded data removed]",
      "text/plain": [
       "<Figure size 432x288 with 1 Axes>"
      ]
     },
     "metadata": {
      "needs_background": "light"
     },
     "output_type": "display_data"
    },
    {
     "name": "stderr",
     "output_type": "stream",
     "text": [
      "C:\\Users\\Alane\\anaconda3\\lib\\site-packages\\pandas\\core\\series.py:679: RuntimeWarning: invalid value encountered in log\n",
      "  result = getattr(ufunc, method)(*inputs, **kwargs)\n"
     ]
    },
    {
     "data": {
      "image/png": "[encoded data removed]",
      "text/plain": [
       "<Figure size 432x288 with 1 Axes>"
      ]
     },
     "metadata": {
      "needs_background": "light"
     },
     "output_type": "display_data"
    },
    {
     "data": {
      "image/png": "[encoded data removed]",
      "text/plain": [
       "<Figure size 432x288 with 1 Axes>"
      ]
     },
     "metadata": {
      "needs_background": "light"
     },
     "output_type": "display_data"
    },
    {
     "data": {
      "image/png": "[encoded data removed]",
      "text/plain": [
       "<Figure size 432x288 with 1 Axes>"
      ]
     },
     "metadata": {
      "needs_background": "light"
     },
     "output_type": "display_data"
    },
    {
     "data": {
      "image/png": "[encoded data removed]",
      "text/plain": [
       "<Figure size 432x288 with 1 Axes>"
      ]
     },
     "metadata": {
      "needs_background": "light"
     },
     "output_type": "display_data"
    },
    {
     "data": {
      "image/png": "[encoded data removed]",
      "text/plain": [
       "<Figure size 432x288 with 1 Axes>"
      ]
     },
     "metadata": {
      "needs_background": "light"
     },
     "output_type": "display_data"
    },
    {
     "data": {
      "image/png": "[encoded data removed]",
      "text/plain": [
       "<Figure size 432x288 with 1 Axes>"
      ]
     },
     "metadata": {
      "needs_background": "light"
     },
     "output_type": "display_data"
    }
   ],
   "source": [
    "for feature in continuous_feature: #checando outliers\n",
    "    data = dataset.copy()\n",
    "    if 0 in data[feature].unique():\n",
    "        pass\n",
    "    else:\n",
    "        data[feature] = np.log(data[feature])\n",
    "        data.boxplot(column=feature)\n",
    "        plt.ylabel(feature)\n",
    "        plt.title(feature)\n",
    "        plt.show()"
   ]
  },
  {
   "cell_type": "code",
   "execution_count": 16,
   "metadata": {
    "colab": {
     "base_uri": "https://localhost:8080/"
    },
    "id": "a8rSrG8VjDe7",
    "outputId": "2bda61a2-c174-4563-b7ab-28d52b27bf64"
   },
   "outputs": [
    {
     "data": {
      "text/plain": [
       "['track', 'artist', 'uri']"
      ]
     },
     "execution_count": 16,
     "metadata": {},
     "output_type": "execute_result"
    }
   ],
   "source": [
    "categorical_features = [feature for feature in dataset.columns if dataset[feature].dtypes == \"O\"] #extraindo atributos categoricos\n",
    "categorical_features"
   ]
  },
  {
   "cell_type": "code",
   "execution_count": 17,
   "metadata": {
    "colab": {
     "base_uri": "https://localhost:8080/"
    },
    "id": "S8fiEVmljJ1-",
    "outputId": "9a321a75-697c-4516-b3f7-1c525d4bb0f4"
   },
   "outputs": [
    {
     "name": "stdout",
     "output_type": "stream",
     "text": [
      "The Feature is track and the no of categories are: 5966\n",
      "The Feature is artist and the no of categories are: 3355\n",
      "The Feature is uri and the no of categories are: 6378\n"
     ]
    }
   ],
   "source": [
    "for feature in categorical_features:\n",
    "    print(\"The Feature is {} and the no of categories are: {}\".format(feature,len(dataset[feature].unique())))"
   ]
  },
  {
   "cell_type": "markdown",
   "metadata": {
    "id": "We10_AowmXWF"
   },
   "source": [
    "## Tratando Atributos"
   ]
  },
  {
   "cell_type": "code",
   "execution_count": 18,
   "metadata": {
    "colab": {
     "base_uri": "https://localhost:8080/",
     "height": 565
    },
    "id": "BnqHbqHqjSXV",
    "outputId": "a704f0d0-ae37-4514-ad79-edec8e9923d1"
   },
   "outputs": [
    {
     "data": {
      "text/html": [
       "<div>\n",
       "<style scoped>\n",
       "    .dataframe tbody tr th:only-of-type {\n",
       "        vertical-align: middle;\n",
       "    }\n",
       "\n",
       "    .dataframe tbody tr th {\n",
       "        vertical-align: top;\n",
       "    }\n",
       "\n",
       "    .dataframe thead th {\n",
       "        text-align: right;\n",
       "    }\n",
       "</style>\n",
       "<table border=\"1\" class=\"dataframe\">\n",
       "  <thead>\n",
       "    <tr style=\"text-align: right;\">\n",
       "      <th></th>\n",
       "      <th>danceability</th>\n",
       "      <th>energy</th>\n",
       "      <th>key</th>\n",
       "      <th>loudness</th>\n",
       "      <th>mode</th>\n",
       "      <th>speechiness</th>\n",
       "      <th>acousticness</th>\n",
       "      <th>instrumentalness</th>\n",
       "      <th>liveness</th>\n",
       "      <th>valence</th>\n",
       "      <th>tempo</th>\n",
       "      <th>duration_ms</th>\n",
       "      <th>time_signature</th>\n",
       "      <th>chorus_hit</th>\n",
       "      <th>sections</th>\n",
       "      <th>target</th>\n",
       "    </tr>\n",
       "  </thead>\n",
       "  <tbody>\n",
       "    <tr>\n",
       "      <th>danceability</th>\n",
       "      <td>1.000000</td>\n",
       "      <td>0.069645</td>\n",
       "      <td>0.012429</td>\n",
       "      <td>0.300576</td>\n",
       "      <td>-0.057280</td>\n",
       "      <td>0.200090</td>\n",
       "      <td>-0.206865</td>\n",
       "      <td>-0.371334</td>\n",
       "      <td>-0.107581</td>\n",
       "      <td>0.494136</td>\n",
       "      <td>-0.056197</td>\n",
       "      <td>-0.224803</td>\n",
       "      <td>0.178671</td>\n",
       "      <td>-0.078254</td>\n",
       "      <td>-0.162908</td>\n",
       "      <td>0.384486</td>\n",
       "    </tr>\n",
       "    <tr>\n",
       "      <th>energy</th>\n",
       "      <td>0.069645</td>\n",
       "      <td>1.000000</td>\n",
       "      <td>0.028703</td>\n",
       "      <td>0.774536</td>\n",
       "      <td>0.004929</td>\n",
       "      <td>0.119194</td>\n",
       "      <td>-0.734853</td>\n",
       "      <td>-0.288263</td>\n",
       "      <td>0.231393</td>\n",
       "      <td>0.281031</td>\n",
       "      <td>0.216886</td>\n",
       "      <td>-0.009228</td>\n",
       "      <td>0.175984</td>\n",
       "      <td>-0.001224</td>\n",
       "      <td>-0.074466</td>\n",
       "      <td>0.060701</td>\n",
       "    </tr>\n",
       "    <tr>\n",
       "      <th>key</th>\n",
       "      <td>0.012429</td>\n",
       "      <td>0.028703</td>\n",
       "      <td>1.000000</td>\n",
       "      <td>0.010824</td>\n",
       "      <td>-0.146063</td>\n",
       "      <td>0.022796</td>\n",
       "      <td>-0.021271</td>\n",
       "      <td>-0.013049</td>\n",
       "      <td>0.021785</td>\n",
       "      <td>0.019572</td>\n",
       "      <td>0.009259</td>\n",
       "      <td>0.011028</td>\n",
       "      <td>-0.008462</td>\n",
       "      <td>0.001960</td>\n",
       "      <td>0.002512</td>\n",
       "      <td>0.005548</td>\n",
       "    </tr>\n",
       "    <tr>\n",
       "      <th>loudness</th>\n",
       "      <td>0.300576</td>\n",
       "      <td>0.774536</td>\n",
       "      <td>0.010824</td>\n",
       "      <td>1.000000</td>\n",
       "      <td>0.021064</td>\n",
       "      <td>0.122028</td>\n",
       "      <td>-0.648717</td>\n",
       "      <td>-0.533671</td>\n",
       "      <td>0.126807</td>\n",
       "      <td>0.324985</td>\n",
       "      <td>0.194467</td>\n",
       "      <td>-0.094598</td>\n",
       "      <td>0.207436</td>\n",
       "      <td>-0.042665</td>\n",
       "      <td>-0.111469</td>\n",
       "      <td>0.327471</td>\n",
       "    </tr>\n",
       "    <tr>\n",
       "      <th>mode</th>\n",
       "      <td>-0.057280</td>\n",
       "      <td>0.004929</td>\n",
       "      <td>-0.146063</td>\n",
       "      <td>0.021064</td>\n",
       "      <td>1.000000</td>\n",
       "      <td>-0.090107</td>\n",
       "      <td>0.011424</td>\n",
       "      <td>-0.037132</td>\n",
       "      <td>-0.011590</td>\n",
       "      <td>0.018198</td>\n",
       "      <td>0.032180</td>\n",
       "      <td>-0.042125</td>\n",
       "      <td>0.014125</td>\n",
       "      <td>-0.007967</td>\n",
       "      <td>-0.030129</td>\n",
       "      <td>0.032021</td>\n",
       "    </tr>\n",
       "    <tr>\n",
       "      <th>speechiness</th>\n",
       "      <td>0.200090</td>\n",
       "      <td>0.119194</td>\n",
       "      <td>0.022796</td>\n",
       "      <td>0.122028</td>\n",
       "      <td>-0.090107</td>\n",
       "      <td>1.000000</td>\n",
       "      <td>-0.134226</td>\n",
       "      <td>-0.148649</td>\n",
       "      <td>0.121075</td>\n",
       "      <td>0.053836</td>\n",
       "      <td>0.117813</td>\n",
       "      <td>-0.071826</td>\n",
       "      <td>0.063656</td>\n",
       "      <td>0.001857</td>\n",
       "      <td>-0.035077</td>\n",
       "      <td>0.097783</td>\n",
       "    </tr>\n",
       "    <tr>\n",
       "      <th>acousticness</th>\n",
       "      <td>-0.206865</td>\n",
       "      <td>-0.734853</td>\n",
       "      <td>-0.021271</td>\n",
       "      <td>-0.648717</td>\n",
       "      <td>0.011424</td>\n",
       "      <td>-0.134226</td>\n",
       "      <td>1.000000</td>\n",
       "      <td>0.315563</td>\n",
       "      <td>-0.149926</td>\n",
       "      <td>-0.166253</td>\n",
       "      <td>-0.182050</td>\n",
       "      <td>-0.039567</td>\n",
       "      <td>-0.191607</td>\n",
       "      <td>0.001477</td>\n",
       "      <td>0.024583</td>\n",
       "      <td>-0.184479</td>\n",
       "    </tr>\n",
       "    <tr>\n",
       "      <th>instrumentalness</th>\n",
       "      <td>-0.371334</td>\n",
       "      <td>-0.288263</td>\n",
       "      <td>-0.013049</td>\n",
       "      <td>-0.533671</td>\n",
       "      <td>-0.037132</td>\n",
       "      <td>-0.148649</td>\n",
       "      <td>0.315563</td>\n",
       "      <td>1.000000</td>\n",
       "      <td>-0.049879</td>\n",
       "      <td>-0.334662</td>\n",
       "      <td>-0.083487</td>\n",
       "      <td>0.183696</td>\n",
       "      <td>-0.133629</td>\n",
       "      <td>0.093847</td>\n",
       "      <td>0.114927</td>\n",
       "      <td>-0.499624</td>\n",
       "    </tr>\n",
       "    <tr>\n",
       "      <th>liveness</th>\n",
       "      <td>-0.107581</td>\n",
       "      <td>0.231393</td>\n",
       "      <td>0.021785</td>\n",
       "      <td>0.126807</td>\n",
       "      <td>-0.011590</td>\n",
       "      <td>0.121075</td>\n",
       "      <td>-0.149926</td>\n",
       "      <td>-0.049879</td>\n",
       "      <td>1.000000</td>\n",
       "      <td>-0.016562</td>\n",
       "      <td>0.038555</td>\n",
       "      <td>0.040219</td>\n",
       "      <td>0.026185</td>\n",
       "      <td>0.043099</td>\n",
       "      <td>0.008406</td>\n",
       "      <td>-0.062612</td>\n",
       "    </tr>\n",
       "    <tr>\n",
       "      <th>valence</th>\n",
       "      <td>0.494136</td>\n",
       "      <td>0.281031</td>\n",
       "      <td>0.019572</td>\n",
       "      <td>0.324985</td>\n",
       "      <td>0.018198</td>\n",
       "      <td>0.053836</td>\n",
       "      <td>-0.166253</td>\n",
       "      <td>-0.334662</td>\n",
       "      <td>-0.016562</td>\n",
       "      <td>1.000000</td>\n",
       "      <td>0.053572</td>\n",
       "      <td>-0.248445</td>\n",
       "      <td>0.117049</td>\n",
       "      <td>-0.103274</td>\n",
       "      <td>-0.168675</td>\n",
       "      <td>0.203774</td>\n",
       "    </tr>\n",
       "    <tr>\n",
       "      <th>tempo</th>\n",
       "      <td>-0.056197</td>\n",
       "      <td>0.216886</td>\n",
       "      <td>0.009259</td>\n",
       "      <td>0.194467</td>\n",
       "      <td>0.032180</td>\n",
       "      <td>0.117813</td>\n",
       "      <td>-0.182050</td>\n",
       "      <td>-0.083487</td>\n",
       "      <td>0.038555</td>\n",
       "      <td>0.053572</td>\n",
       "      <td>1.000000</td>\n",
       "      <td>-0.019830</td>\n",
       "      <td>0.025892</td>\n",
       "      <td>-0.060944</td>\n",
       "      <td>0.048688</td>\n",
       "      <td>0.039226</td>\n",
       "    </tr>\n",
       "    <tr>\n",
       "      <th>duration_ms</th>\n",
       "      <td>-0.224803</td>\n",
       "      <td>-0.009228</td>\n",
       "      <td>0.011028</td>\n",
       "      <td>-0.094598</td>\n",
       "      <td>-0.042125</td>\n",
       "      <td>-0.071826</td>\n",
       "      <td>-0.039567</td>\n",
       "      <td>0.183696</td>\n",
       "      <td>0.040219</td>\n",
       "      <td>-0.248445</td>\n",
       "      <td>-0.019830</td>\n",
       "      <td>1.000000</td>\n",
       "      <td>0.000599</td>\n",
       "      <td>0.096040</td>\n",
       "      <td>0.810253</td>\n",
       "      <td>-0.189203</td>\n",
       "    </tr>\n",
       "    <tr>\n",
       "      <th>time_signature</th>\n",
       "      <td>0.178671</td>\n",
       "      <td>0.175984</td>\n",
       "      <td>-0.008462</td>\n",
       "      <td>0.207436</td>\n",
       "      <td>0.014125</td>\n",
       "      <td>0.063656</td>\n",
       "      <td>-0.191607</td>\n",
       "      <td>-0.133629</td>\n",
       "      <td>0.026185</td>\n",
       "      <td>0.117049</td>\n",
       "      <td>0.025892</td>\n",
       "      <td>0.000599</td>\n",
       "      <td>1.000000</td>\n",
       "      <td>-0.031763</td>\n",
       "      <td>-0.012843</td>\n",
       "      <td>0.127544</td>\n",
       "    </tr>\n",
       "    <tr>\n",
       "      <th>chorus_hit</th>\n",
       "      <td>-0.078254</td>\n",
       "      <td>-0.001224</td>\n",
       "      <td>0.001960</td>\n",
       "      <td>-0.042665</td>\n",
       "      <td>-0.007967</td>\n",
       "      <td>0.001857</td>\n",
       "      <td>0.001477</td>\n",
       "      <td>0.093847</td>\n",
       "      <td>0.043099</td>\n",
       "      <td>-0.103274</td>\n",
       "      <td>-0.060944</td>\n",
       "      <td>0.096040</td>\n",
       "      <td>-0.031763</td>\n",
       "      <td>1.000000</td>\n",
       "      <td>-0.158206</td>\n",
       "      <td>-0.085587</td>\n",
       "    </tr>\n",
       "    <tr>\n",
       "      <th>sections</th>\n",
       "      <td>-0.162908</td>\n",
       "      <td>-0.074466</td>\n",
       "      <td>0.002512</td>\n",
       "      <td>-0.111469</td>\n",
       "      <td>-0.030129</td>\n",
       "      <td>-0.035077</td>\n",
       "      <td>0.024583</td>\n",
       "      <td>0.114927</td>\n",
       "      <td>0.008406</td>\n",
       "      <td>-0.168675</td>\n",
       "      <td>0.048688</td>\n",
       "      <td>0.810253</td>\n",
       "      <td>-0.012843</td>\n",
       "      <td>-0.158206</td>\n",
       "      <td>1.000000</td>\n",
       "      <td>-0.113383</td>\n",
       "    </tr>\n",
       "    <tr>\n",
       "      <th>target</th>\n",
       "      <td>0.384486</td>\n",
       "      <td>0.060701</td>\n",
       "      <td>0.005548</td>\n",
       "      <td>0.327471</td>\n",
       "      <td>0.032021</td>\n",
       "      <td>0.097783</td>\n",
       "      <td>-0.184479</td>\n",
       "      <td>-0.499624</td>\n",
       "      <td>-0.062612</td>\n",
       "      <td>0.203774</td>\n",
       "      <td>0.039226</td>\n",
       "      <td>-0.189203</td>\n",
       "      <td>0.127544</td>\n",
       "      <td>-0.085587</td>\n",
       "      <td>-0.113383</td>\n",
       "      <td>1.000000</td>\n",
       "    </tr>\n",
       "  </tbody>\n",
       "</table>\n",
       "</div>"
      ],
      "text/plain": [
       "                  danceability    energy       key  loudness      mode  \\\n",
       "danceability          1.000000  0.069645  0.012429  0.300576 -0.057280   \n",
       "energy                0.069645  1.000000  0.028703  0.774536  0.004929   \n",
       "key                   0.012429  0.028703  1.000000  0.010824 -0.146063   \n",
       "loudness              0.300576  0.774536  0.010824  1.000000  0.021064   \n",
       "mode                 -0.057280  0.004929 -0.146063  0.021064  1.000000   \n",
       "speechiness           0.200090  0.119194  0.022796  0.122028 -0.090107   \n",
       "acousticness         -0.206865 -0.734853 -0.021271 -0.648717  0.011424   \n",
       "instrumentalness     -0.371334 -0.288263 -0.013049 -0.533671 -0.037132   \n",
       "liveness             -0.107581  0.231393  0.021785  0.126807 -0.011590   \n",
       "valence               0.494136  0.281031  0.019572  0.324985  0.018198   \n",
       "tempo                -0.056197  0.216886  0.009259  0.194467  0.032180   \n",
       "duration_ms          -0.224803 -0.009228  0.011028 -0.094598 -0.042125   \n",
       "time_signature        0.178671  0.175984 -0.008462  0.207436  0.014125   \n",
       "chorus_hit           -0.078254 -0.001224  0.001960 -0.042665 -0.007967   \n",
       "sections             -0.162908 -0.074466  0.002512 -0.111469 -0.030129   \n",
       "target                0.384486  0.060701  0.005548  0.327471  0.032021   \n",
       "\n",
       "                  speechiness  acousticness  instrumentalness  liveness  \\\n",
       "danceability         0.200090     -0.206865         -0.371334 -0.107581   \n",
       "energy               0.119194     -0.734853         -0.288263  0.231393   \n",
       "key                  0.022796     -0.021271         -0.013049  0.021785   \n",
       "loudness             0.122028     -0.648717         -0.533671  0.126807   \n",
       "mode                -0.090107      0.011424         -0.037132 -0.011590   \n",
       "speechiness          1.000000     -0.134226         -0.148649  0.121075   \n",
       "acousticness        -0.134226      1.000000          0.315563 -0.149926   \n",
       "instrumentalness    -0.148649      0.315563          1.000000 -0.049879   \n",
       "liveness             0.121075     -0.149926         -0.049879  1.000000   \n",
       "valence              0.053836     -0.166253         -0.334662 -0.016562   \n",
       "tempo                0.117813     -0.182050         -0.083487  0.038555   \n",
       "duration_ms         -0.071826     -0.039567          0.183696  0.040219   \n",
       "time_signature       0.063656     -0.191607         -0.133629  0.026185   \n",
       "chorus_hit           0.001857      0.001477          0.093847  0.043099   \n",
       "sections            -0.035077      0.024583          0.114927  0.008406   \n",
       "target               0.097783     -0.184479         -0.499624 -0.062612   \n",
       "\n",
       "                   valence     tempo  duration_ms  time_signature  chorus_hit  \\\n",
       "danceability      0.494136 -0.056197    -0.224803        0.178671   -0.078254   \n",
       "energy            0.281031  0.216886    -0.009228        0.175984   -0.001224   \n",
       "key               0.019572  0.009259     0.011028       -0.008462    0.001960   \n",
       "loudness          0.324985  0.194467    -0.094598        0.207436   -0.042665   \n",
       "mode              0.018198  0.032180    -0.042125        0.014125   -0.007967   \n",
       "speechiness       0.053836  0.117813    -0.071826        0.063656    0.001857   \n",
       "acousticness     -0.166253 -0.182050    -0.039567       -0.191607    0.001477   \n",
       "instrumentalness -0.334662 -0.083487     0.183696       -0.133629    0.093847   \n",
       "liveness         -0.016562  0.038555     0.040219        0.026185    0.043099   \n",
       "valence           1.000000  0.053572    -0.248445        0.117049   -0.103274   \n",
       "tempo             0.053572  1.000000    -0.019830        0.025892   -0.060944   \n",
       "duration_ms      -0.248445 -0.019830     1.000000        0.000599    0.096040   \n",
       "time_signature    0.117049  0.025892     0.000599        1.000000   -0.031763   \n",
       "chorus_hit       -0.103274 -0.060944     0.096040       -0.031763    1.000000   \n",
       "sections         -0.168675  0.048688     0.810253       -0.012843   -0.158206   \n",
       "target            0.203774  0.039226    -0.189203        0.127544   -0.085587   \n",
       "\n",
       "                  sections    target  \n",
       "danceability     -0.162908  0.384486  \n",
       "energy           -0.074466  0.060701  \n",
       "key               0.002512  0.005548  \n",
       "loudness         -0.111469  0.327471  \n",
       "mode             -0.030129  0.032021  \n",
       "speechiness      -0.035077  0.097783  \n",
       "acousticness      0.024583 -0.184479  \n",
       "instrumentalness  0.114927 -0.499624  \n",
       "liveness          0.008406 -0.062612  \n",
       "valence          -0.168675  0.203774  \n",
       "tempo             0.048688  0.039226  \n",
       "duration_ms       0.810253 -0.189203  \n",
       "time_signature   -0.012843  0.127544  \n",
       "chorus_hit       -0.158206 -0.085587  \n",
       "sections          1.000000 -0.113383  \n",
       "target           -0.113383  1.000000  "
      ]
     },
     "execution_count": 18,
     "metadata": {},
     "output_type": "execute_result"
    }
   ],
   "source": [
    "dataset.corr()\n"
   ]
  },
  {
   "cell_type": "code",
   "execution_count": 19,
   "metadata": {
    "colab": {
     "base_uri": "https://localhost:8080/",
     "height": 363
    },
    "id": "XxFLgbG1jWei",
    "outputId": "2359f4ea-5ea0-4928-dbe5-5b1d97d8560f"
   },
   "outputs": [
    {
     "data": {
      "text/plain": [
       "<matplotlib.axes._subplots.AxesSubplot at 0xe411af0>"
      ]
     },
     "execution_count": 19,
     "metadata": {},
     "output_type": "execute_result"
    },
    {
     "data": {
      "image/png": "[encoded data removed]",
      "text/plain": [
       "<Figure size 432x288 with 2 Axes>"
      ]
     },
     "metadata": {
      "needs_background": "light"
     },
     "output_type": "display_data"
    }
   ],
   "source": [
    "sns.heatmap(dataset.corr()) #correlação\n"
   ]
  },
  {
   "cell_type": "code",
   "execution_count": 20,
   "metadata": {
    "id": "Pl25I9hPjaph"
   },
   "outputs": [],
   "source": [
    "def correlation(dataset, threshold): \n",
    "    col_corr = set() \n",
    "    corr_matrix = dataset.corr()\n",
    "    for i in range(len(corr_matrix.columns)):\n",
    "        for j in range(i):\n",
    "            if (corr_matrix.iloc[i, j] >= threshold):\n",
    "                colname = corr_matrix.columns[i] \n",
    "                col_corr.add(colname)\n",
    "    return col_corr"
   ]
  },
  {
   "cell_type": "code",
   "execution_count": 21,
   "metadata": {
    "colab": {
     "base_uri": "https://localhost:8080/"
    },
    "id": "d1ex4TL3jgAb",
    "outputId": "4f8220f7-a124-46cd-f26b-a3439bcdde70"
   },
   "outputs": [
    {
     "data": {
      "text/plain": [
       "{'loudness', 'sections'}"
      ]
     },
     "execution_count": 21,
     "metadata": {},
     "output_type": "execute_result"
    }
   ],
   "source": [
    "correlation_features = correlation(dataset,0.7)\n",
    "correlation_features"
   ]
  },
  {
   "cell_type": "code",
   "execution_count": 22,
   "metadata": {
    "colab": {
     "base_uri": "https://localhost:8080/",
     "height": 1000
    },
    "id": "DgXl8fLgjiWM",
    "outputId": "f9dbcd8f-26f2-4743-a882-cd2910645e22"
   },
   "outputs": [
    {
     "data": {
      "image/png": "[encoded data removed]",
      "text/plain": [
       "<Figure size 432x288 with 1 Axes>"
      ]
     },
     "metadata": {
      "needs_background": "light"
     },
     "output_type": "display_data"
    },
    {
     "data": {
      "image/png": "[encoded data removed]",
      "text/plain": [
       "<Figure size 432x288 with 1 Axes>"
      ]
     },
     "metadata": {
      "needs_background": "light"
     },
     "output_type": "display_data"
    },
    {
     "name": "stderr",
     "output_type": "stream",
     "text": [
      "C:\\Users\\Alane\\anaconda3\\lib\\site-packages\\pandas\\core\\series.py:679: RuntimeWarning: invalid value encountered in log\n",
      "  result = getattr(ufunc, method)(*inputs, **kwargs)\n"
     ]
    },
    {
     "data": {
      "image/png": "[encoded data removed]",
      "text/plain": [
       "<Figure size 432x288 with 1 Axes>"
      ]
     },
     "metadata": {
      "needs_background": "light"
     },
     "output_type": "display_data"
    },
    {
     "data": {
      "image/png": "[encoded data removed]",
      "text/plain": [
       "<Figure size 432x288 with 1 Axes>"
      ]
     },
     "metadata": {
      "needs_background": "light"
     },
     "output_type": "display_data"
    },
    {
     "data": {
      "image/png": "[encoded data removed]",
      "text/plain": [
       "<Figure size 432x288 with 1 Axes>"
      ]
     },
     "metadata": {
      "needs_background": "light"
     },
     "output_type": "display_data"
    },
    {
     "data": {
      "image/png": "[encoded data removed]",
      "text/plain": [
       "<Figure size 432x288 with 1 Axes>"
      ]
     },
     "metadata": {
      "needs_background": "light"
     },
     "output_type": "display_data"
    },
    {
     "data": {
      "image/png": "[encoded data removed]",
      "text/plain": [
       "<Figure size 432x288 with 1 Axes>"
      ]
     },
     "metadata": {
      "needs_background": "light"
     },
     "output_type": "display_data"
    },
    {
     "data": {
      "image/png": "[encoded data removed]",
      "text/plain": [
       "<Figure size 432x288 with 1 Axes>"
      ]
     },
     "metadata": {
      "needs_background": "light"
     },
     "output_type": "display_data"
    }
   ],
   "source": [
    "for feature in continuous_feature:\n",
    "    if 0 in dataset[feature].unique():\n",
    "        pass\n",
    "    else:\n",
    "        dataset[feature] = np.log(dataset[feature])\n",
    "        dataset[feature].hist(bins=20)\n",
    "        plt.xlabel(feature)\n",
    "        plt.ylabel(\"counts\")\n",
    "        plt.show()"
   ]
  },
  {
   "cell_type": "code",
   "execution_count": 23,
   "metadata": {
    "id": "uBsOUCKnjoA7"
   },
   "outputs": [],
   "source": [
    "dataset = dataset.drop([\"loudness\",\"sections\"],axis = 1) "
   ]
  },
  {
   "cell_type": "code",
   "execution_count": 24,
   "metadata": {
    "colab": {
     "base_uri": "https://localhost:8080/",
     "height": 317
    },
    "id": "gcvgCsbTjrng",
    "outputId": "7b0409f7-7570-4802-dbca-525273fd3d24"
   },
   "outputs": [
    {
     "data": {
      "text/html": [
       "<div>\n",
       "<style scoped>\n",
       "    .dataframe tbody tr th:only-of-type {\n",
       "        vertical-align: middle;\n",
       "    }\n",
       "\n",
       "    .dataframe tbody tr th {\n",
       "        vertical-align: top;\n",
       "    }\n",
       "\n",
       "    .dataframe thead th {\n",
       "        text-align: right;\n",
       "    }\n",
       "</style>\n",
       "<table border=\"1\" class=\"dataframe\">\n",
       "  <thead>\n",
       "    <tr style=\"text-align: right;\">\n",
       "      <th></th>\n",
       "      <th>danceability</th>\n",
       "      <th>energy</th>\n",
       "      <th>key</th>\n",
       "      <th>mode</th>\n",
       "      <th>speechiness</th>\n",
       "      <th>acousticness</th>\n",
       "      <th>instrumentalness</th>\n",
       "      <th>liveness</th>\n",
       "      <th>valence</th>\n",
       "      <th>tempo</th>\n",
       "      <th>duration_ms</th>\n",
       "      <th>time_signature</th>\n",
       "      <th>chorus_hit</th>\n",
       "      <th>target</th>\n",
       "    </tr>\n",
       "  </thead>\n",
       "  <tbody>\n",
       "    <tr>\n",
       "      <th>count</th>\n",
       "      <td>6398.000000</td>\n",
       "      <td>6398.000000</td>\n",
       "      <td>6398.000000</td>\n",
       "      <td>6398.000000</td>\n",
       "      <td>6398.000000</td>\n",
       "      <td>6398.000000</td>\n",
       "      <td>6398.000000</td>\n",
       "      <td>6398.000000</td>\n",
       "      <td>6398.000000</td>\n",
       "      <td>6398.000000</td>\n",
       "      <td>6398.000000</td>\n",
       "      <td>6398.000000</td>\n",
       "      <td>6398.000000</td>\n",
       "      <td>6398.000000</td>\n",
       "    </tr>\n",
       "    <tr>\n",
       "      <th>mean</th>\n",
       "      <td>-0.642573</td>\n",
       "      <td>-0.550080</td>\n",
       "      <td>5.283526</td>\n",
       "      <td>0.645514</td>\n",
       "      <td>-2.652389</td>\n",
       "      <td>0.216928</td>\n",
       "      <td>0.165293</td>\n",
       "      <td>-1.880965</td>\n",
       "      <td>0.443734</td>\n",
       "      <td>4.776565</td>\n",
       "      <td>12.323801</td>\n",
       "      <td>3.930916</td>\n",
       "      <td>41.028399</td>\n",
       "      <td>0.500000</td>\n",
       "    </tr>\n",
       "    <tr>\n",
       "      <th>std</th>\n",
       "      <td>0.434815</td>\n",
       "      <td>0.739781</td>\n",
       "      <td>3.606216</td>\n",
       "      <td>0.478395</td>\n",
       "      <td>0.751996</td>\n",
       "      <td>0.296835</td>\n",
       "      <td>0.318736</td>\n",
       "      <td>0.680084</td>\n",
       "      <td>0.245776</td>\n",
       "      <td>0.248864</td>\n",
       "      <td>0.311873</td>\n",
       "      <td>0.377469</td>\n",
       "      <td>19.568827</td>\n",
       "      <td>0.500039</td>\n",
       "    </tr>\n",
       "    <tr>\n",
       "      <th>min</th>\n",
       "      <td>-2.777400</td>\n",
       "      <td>-8.290058</td>\n",
       "      <td>0.000000</td>\n",
       "      <td>0.000000</td>\n",
       "      <td>-3.794240</td>\n",
       "      <td>0.000000</td>\n",
       "      <td>0.000000</td>\n",
       "      <td>-4.092347</td>\n",
       "      <td>0.000000</td>\n",
       "      <td>3.672979</td>\n",
       "      <td>10.304041</td>\n",
       "      <td>0.000000</td>\n",
       "      <td>0.000000</td>\n",
       "      <td>0.000000</td>\n",
       "    </tr>\n",
       "    <tr>\n",
       "      <th>25%</th>\n",
       "      <td>-0.805197</td>\n",
       "      <td>-0.629234</td>\n",
       "      <td>2.000000</td>\n",
       "      <td>0.000000</td>\n",
       "      <td>-3.248692</td>\n",
       "      <td>0.008533</td>\n",
       "      <td>0.000000</td>\n",
       "      <td>-2.335108</td>\n",
       "      <td>0.240000</td>\n",
       "      <td>4.585898</td>\n",
       "      <td>12.171516</td>\n",
       "      <td>4.000000</td>\n",
       "      <td>28.059135</td>\n",
       "      <td>0.000000</td>\n",
       "    </tr>\n",
       "    <tr>\n",
       "      <th>50%</th>\n",
       "      <td>-0.531028</td>\n",
       "      <td>-0.338976</td>\n",
       "      <td>5.000000</td>\n",
       "      <td>1.000000</td>\n",
       "      <td>-2.861201</td>\n",
       "      <td>0.067050</td>\n",
       "      <td>0.000017</td>\n",
       "      <td>-2.071473</td>\n",
       "      <td>0.434000</td>\n",
       "      <td>4.796369</td>\n",
       "      <td>12.307033</td>\n",
       "      <td>4.000000</td>\n",
       "      <td>36.265365</td>\n",
       "      <td>0.500000</td>\n",
       "    </tr>\n",
       "    <tr>\n",
       "      <th>75%</th>\n",
       "      <td>-0.342490</td>\n",
       "      <td>-0.154317</td>\n",
       "      <td>8.000000</td>\n",
       "      <td>1.000000</td>\n",
       "      <td>-2.189256</td>\n",
       "      <td>0.311000</td>\n",
       "      <td>0.057650</td>\n",
       "      <td>-1.390302</td>\n",
       "      <td>0.628000</td>\n",
       "      <td>4.949363</td>\n",
       "      <td>12.465805</td>\n",
       "      <td>4.000000</td>\n",
       "      <td>48.292538</td>\n",
       "      <td>1.000000</td>\n",
       "    </tr>\n",
       "    <tr>\n",
       "      <th>max</th>\n",
       "      <td>-0.019183</td>\n",
       "      <td>-0.001001</td>\n",
       "      <td>11.000000</td>\n",
       "      <td>1.000000</td>\n",
       "      <td>-0.044997</td>\n",
       "      <td>0.996000</td>\n",
       "      <td>0.995000</td>\n",
       "      <td>-0.018164</td>\n",
       "      <td>0.976000</td>\n",
       "      <td>5.351749</td>\n",
       "      <td>14.366057</td>\n",
       "      <td>5.000000</td>\n",
       "      <td>213.154990</td>\n",
       "      <td>1.000000</td>\n",
       "    </tr>\n",
       "  </tbody>\n",
       "</table>\n",
       "</div>"
      ],
      "text/plain": [
       "       danceability       energy          key         mode  speechiness  \\\n",
       "count   6398.000000  6398.000000  6398.000000  6398.000000  6398.000000   \n",
       "mean      -0.642573    -0.550080     5.283526     0.645514    -2.652389   \n",
       "std        0.434815     0.739781     3.606216     0.478395     0.751996   \n",
       "min       -2.777400    -8.290058     0.000000     0.000000    -3.794240   \n",
       "25%       -0.805197    -0.629234     2.000000     0.000000    -3.248692   \n",
       "50%       -0.531028    -0.338976     5.000000     1.000000    -2.861201   \n",
       "75%       -0.342490    -0.154317     8.000000     1.000000    -2.189256   \n",
       "max       -0.019183    -0.001001    11.000000     1.000000    -0.044997   \n",
       "\n",
       "       acousticness  instrumentalness     liveness      valence        tempo  \\\n",
       "count   6398.000000       6398.000000  6398.000000  6398.000000  6398.000000   \n",
       "mean       0.216928          0.165293    -1.880965     0.443734     4.776565   \n",
       "std        0.296835          0.318736     0.680084     0.245776     0.248864   \n",
       "min        0.000000          0.000000    -4.092347     0.000000     3.672979   \n",
       "25%        0.008533          0.000000    -2.335108     0.240000     4.585898   \n",
       "50%        0.067050          0.000017    -2.071473     0.434000     4.796369   \n",
       "75%        0.311000          0.057650    -1.390302     0.628000     4.949363   \n",
       "max        0.996000          0.995000    -0.018164     0.976000     5.351749   \n",
       "\n",
       "       duration_ms  time_signature   chorus_hit       target  \n",
       "count  6398.000000     6398.000000  6398.000000  6398.000000  \n",
       "mean     12.323801        3.930916    41.028399     0.500000  \n",
       "std       0.311873        0.377469    19.568827     0.500039  \n",
       "min      10.304041        0.000000     0.000000     0.000000  \n",
       "25%      12.171516        4.000000    28.059135     0.000000  \n",
       "50%      12.307033        4.000000    36.265365     0.500000  \n",
       "75%      12.465805        4.000000    48.292538     1.000000  \n",
       "max      14.366057        5.000000   213.154990     1.000000  "
      ]
     },
     "execution_count": 24,
     "metadata": {},
     "output_type": "execute_result"
    }
   ],
   "source": [
    "dataset.describe()"
   ]
  },
  {
   "cell_type": "code",
   "execution_count": 25,
   "metadata": {
    "colab": {
     "base_uri": "https://localhost:8080/"
    },
    "id": "OOh5bl5ljuwC",
    "outputId": "5482d3c1-4841-43f0-a419-aff288a45e6c"
   },
   "outputs": [
    {
     "data": {
      "text/plain": [
       "MinMaxScaler(copy=True, feature_range=(0, 1))"
      ]
     },
     "execution_count": 25,
     "metadata": {},
     "output_type": "execute_result"
    }
   ],
   "source": [
    "feature = [feature for feature in dataset.columns if feature not in [\"target\",\"artist\",\"uri\",\"track\"]]\n",
    "from sklearn.preprocessing import MinMaxScaler\n",
    "scaler = MinMaxScaler()\n",
    "scaler.fit(dataset[feature])"
   ]
  },
  {
   "cell_type": "code",
   "execution_count": 26,
   "metadata": {
    "id": "U38zczKRjxf1"
   },
   "outputs": [],
   "source": [
    "x = scaler.transform(dataset[feature]) #scaling data"
   ]
  },
  {
   "cell_type": "code",
   "execution_count": 27,
   "metadata": {
    "colab": {
     "base_uri": "https://localhost:8080/",
     "height": 360
    },
    "id": "Ci5cBDBfj16t",
    "outputId": "e526021f-52d5-44a9-c9c9-01cdb9ac0996"
   },
   "outputs": [
    {
     "data": {
      "text/html": [
       "<div>\n",
       "<style scoped>\n",
       "    .dataframe tbody tr th:only-of-type {\n",
       "        vertical-align: middle;\n",
       "    }\n",
       "\n",
       "    .dataframe tbody tr th {\n",
       "        vertical-align: top;\n",
       "    }\n",
       "\n",
       "    .dataframe thead th {\n",
       "        text-align: right;\n",
       "    }\n",
       "</style>\n",
       "<table border=\"1\" class=\"dataframe\">\n",
       "  <thead>\n",
       "    <tr style=\"text-align: right;\">\n",
       "      <th></th>\n",
       "      <th>track</th>\n",
       "      <th>artist</th>\n",
       "      <th>uri</th>\n",
       "      <th>danceability</th>\n",
       "      <th>energy</th>\n",
       "      <th>key</th>\n",
       "      <th>mode</th>\n",
       "      <th>speechiness</th>\n",
       "      <th>acousticness</th>\n",
       "      <th>instrumentalness</th>\n",
       "      <th>liveness</th>\n",
       "      <th>valence</th>\n",
       "      <th>tempo</th>\n",
       "      <th>duration_ms</th>\n",
       "      <th>time_signature</th>\n",
       "      <th>chorus_hit</th>\n",
       "      <th>target</th>\n",
       "    </tr>\n",
       "  </thead>\n",
       "  <tbody>\n",
       "    <tr>\n",
       "      <th>0</th>\n",
       "      <td>Wild Things</td>\n",
       "      <td>Alessia Cara</td>\n",
       "      <td>spotify:track:2ZyuwVvV6Z3XJaXIFbspeE</td>\n",
       "      <td>-0.299755</td>\n",
       "      <td>-0.468405</td>\n",
       "      <td>1</td>\n",
       "      <td>0</td>\n",
       "      <td>-2.423623</td>\n",
       "      <td>0.02000</td>\n",
       "      <td>0.000</td>\n",
       "      <td>-2.491327</td>\n",
       "      <td>0.706</td>\n",
       "      <td>4.682400</td>\n",
       "      <td>12.146816</td>\n",
       "      <td>4</td>\n",
       "      <td>41.18681</td>\n",
       "      <td>1</td>\n",
       "    </tr>\n",
       "    <tr>\n",
       "      <th>1</th>\n",
       "      <td>Surfboard</td>\n",
       "      <td>Esquivel!</td>\n",
       "      <td>spotify:track:61APOtq25SCMuK0V5w2Kgp</td>\n",
       "      <td>-0.805197</td>\n",
       "      <td>-1.398367</td>\n",
       "      <td>5</td>\n",
       "      <td>0</td>\n",
       "      <td>-3.363902</td>\n",
       "      <td>0.87100</td>\n",
       "      <td>0.814</td>\n",
       "      <td>-2.358098</td>\n",
       "      <td>0.250</td>\n",
       "      <td>5.046575</td>\n",
       "      <td>12.083227</td>\n",
       "      <td>3</td>\n",
       "      <td>33.18083</td>\n",
       "      <td>0</td>\n",
       "    </tr>\n",
       "    <tr>\n",
       "      <th>2</th>\n",
       "      <td>Love Someone</td>\n",
       "      <td>Lukas Graham</td>\n",
       "      <td>spotify:track:2JqnpexlO9dmvjUMCaLCLJ</td>\n",
       "      <td>-0.597837</td>\n",
       "      <td>-0.879477</td>\n",
       "      <td>9</td>\n",
       "      <td>0</td>\n",
       "      <td>-2.956512</td>\n",
       "      <td>0.16100</td>\n",
       "      <td>0.000</td>\n",
       "      <td>-2.225624</td>\n",
       "      <td>0.274</td>\n",
       "      <td>5.147872</td>\n",
       "      <td>12.233021</td>\n",
       "      <td>4</td>\n",
       "      <td>44.89147</td>\n",
       "      <td>1</td>\n",
       "    </tr>\n",
       "    <tr>\n",
       "      <th>3</th>\n",
       "      <td>Music To My Ears (feat. Tory Lanez)</td>\n",
       "      <td>Keys N Krates</td>\n",
       "      <td>spotify:track:0cjfLhk8WJ3etPTCseKXtk</td>\n",
       "      <td>-0.689155</td>\n",
       "      <td>-0.433865</td>\n",
       "      <td>0</td>\n",
       "      <td>0</td>\n",
       "      <td>-2.943140</td>\n",
       "      <td>0.00513</td>\n",
       "      <td>0.000</td>\n",
       "      <td>-1.589635</td>\n",
       "      <td>0.291</td>\n",
       "      <td>4.520015</td>\n",
       "      <td>12.170668</td>\n",
       "      <td>4</td>\n",
       "      <td>29.52521</td>\n",
       "      <td>0</td>\n",
       "    </tr>\n",
       "    <tr>\n",
       "      <th>4</th>\n",
       "      <td>Juju On That Beat (TZ Anthem)</td>\n",
       "      <td>Zay Hilfigerrr &amp; Zayion McCall</td>\n",
       "      <td>spotify:track:1lItf5ZXJc1by9SbPeljFd</td>\n",
       "      <td>-0.214432</td>\n",
       "      <td>-0.119910</td>\n",
       "      <td>1</td>\n",
       "      <td>1</td>\n",
       "      <td>-1.290984</td>\n",
       "      <td>0.00381</td>\n",
       "      <td>0.000</td>\n",
       "      <td>-0.939048</td>\n",
       "      <td>0.780</td>\n",
       "      <td>5.078400</td>\n",
       "      <td>11.879262</td>\n",
       "      <td>4</td>\n",
       "      <td>24.99199</td>\n",
       "      <td>1</td>\n",
       "    </tr>\n",
       "  </tbody>\n",
       "</table>\n",
       "</div>"
      ],
      "text/plain": [
       "                                 track                          artist  \\\n",
       "0                          Wild Things                    Alessia Cara   \n",
       "1                            Surfboard                       Esquivel!   \n",
       "2                         Love Someone                    Lukas Graham   \n",
       "3  Music To My Ears (feat. Tory Lanez)                   Keys N Krates   \n",
       "4        Juju On That Beat (TZ Anthem)  Zay Hilfigerrr & Zayion McCall   \n",
       "\n",
       "                                    uri  danceability    energy  key  mode  \\\n",
       "0  spotify:track:2ZyuwVvV6Z3XJaXIFbspeE     -0.299755 -0.468405    1     0   \n",
       "1  spotify:track:61APOtq25SCMuK0V5w2Kgp     -0.805197 -1.398367    5     0   \n",
       "2  spotify:track:2JqnpexlO9dmvjUMCaLCLJ     -0.597837 -0.879477    9     0   \n",
       "3  spotify:track:0cjfLhk8WJ3etPTCseKXtk     -0.689155 -0.433865    0     0   \n",
       "4  spotify:track:1lItf5ZXJc1by9SbPeljFd     -0.214432 -0.119910    1     1   \n",
       "\n",
       "   speechiness  acousticness  instrumentalness  liveness  valence     tempo  \\\n",
       "0    -2.423623       0.02000             0.000 -2.491327    0.706  4.682400   \n",
       "1    -3.363902       0.87100             0.814 -2.358098    0.250  5.046575   \n",
       "2    -2.956512       0.16100             0.000 -2.225624    0.274  5.147872   \n",
       "3    -2.943140       0.00513             0.000 -1.589635    0.291  4.520015   \n",
       "4    -1.290984       0.00381             0.000 -0.939048    0.780  5.078400   \n",
       "\n",
       "   duration_ms  time_signature  chorus_hit  target  \n",
       "0    12.146816               4    41.18681       1  \n",
       "1    12.083227               3    33.18083       0  \n",
       "2    12.233021               4    44.89147       1  \n",
       "3    12.170668               4    29.52521       0  \n",
       "4    11.879262               4    24.99199       1  "
      ]
     },
     "execution_count": 27,
     "metadata": {},
     "output_type": "execute_result"
    }
   ],
   "source": [
    "dataset.head()"
   ]
  },
  {
   "cell_type": "code",
   "execution_count": 28,
   "metadata": {
    "id": "5YcHC7Fmj4e1"
   },
   "outputs": [],
   "source": [
    "data = pd.concat([dataset[[\"target\",\"artist\",\"uri\",\"track\"]].reset_index(drop= True),pd.DataFrame(scaler.transform(dataset[feature]),columns = feature)],axis=1)"
   ]
  },
  {
   "cell_type": "code",
   "execution_count": 29,
   "metadata": {
    "colab": {
     "base_uri": "https://localhost:8080/",
     "height": 360
    },
    "id": "fhhhgyZ5j6nt",
    "outputId": "789f93a4-057f-4747-ce43-0e3247e32499"
   },
   "outputs": [
    {
     "data": {
      "text/html": [
       "<div>\n",
       "<style scoped>\n",
       "    .dataframe tbody tr th:only-of-type {\n",
       "        vertical-align: middle;\n",
       "    }\n",
       "\n",
       "    .dataframe tbody tr th {\n",
       "        vertical-align: top;\n",
       "    }\n",
       "\n",
       "    .dataframe thead th {\n",
       "        text-align: right;\n",
       "    }\n",
       "</style>\n",
       "<table border=\"1\" class=\"dataframe\">\n",
       "  <thead>\n",
       "    <tr style=\"text-align: right;\">\n",
       "      <th></th>\n",
       "      <th>target</th>\n",
       "      <th>artist</th>\n",
       "      <th>uri</th>\n",
       "      <th>track</th>\n",
       "      <th>danceability</th>\n",
       "      <th>energy</th>\n",
       "      <th>key</th>\n",
       "      <th>mode</th>\n",
       "      <th>speechiness</th>\n",
       "      <th>acousticness</th>\n",
       "      <th>instrumentalness</th>\n",
       "      <th>liveness</th>\n",
       "      <th>valence</th>\n",
       "      <th>tempo</th>\n",
       "      <th>duration_ms</th>\n",
       "      <th>time_signature</th>\n",
       "      <th>chorus_hit</th>\n",
       "    </tr>\n",
       "  </thead>\n",
       "  <tbody>\n",
       "    <tr>\n",
       "      <th>0</th>\n",
       "      <td>1</td>\n",
       "      <td>Alessia Cara</td>\n",
       "      <td>spotify:track:2ZyuwVvV6Z3XJaXIFbspeE</td>\n",
       "      <td>Wild Things</td>\n",
       "      <td>0.898278</td>\n",
       "      <td>0.943612</td>\n",
       "      <td>0.090909</td>\n",
       "      <td>0.0</td>\n",
       "      <td>0.365572</td>\n",
       "      <td>0.020080</td>\n",
       "      <td>0.00000</td>\n",
       "      <td>0.392967</td>\n",
       "      <td>0.723361</td>\n",
       "      <td>0.601286</td>\n",
       "      <td>0.453660</td>\n",
       "      <td>0.8</td>\n",
       "      <td>0.193225</td>\n",
       "    </tr>\n",
       "    <tr>\n",
       "      <th>1</th>\n",
       "      <td>0</td>\n",
       "      <td>Esquivel!</td>\n",
       "      <td>spotify:track:61APOtq25SCMuK0V5w2Kgp</td>\n",
       "      <td>Surfboard</td>\n",
       "      <td>0.715028</td>\n",
       "      <td>0.831420</td>\n",
       "      <td>0.454545</td>\n",
       "      <td>0.0</td>\n",
       "      <td>0.114780</td>\n",
       "      <td>0.874498</td>\n",
       "      <td>0.81809</td>\n",
       "      <td>0.425668</td>\n",
       "      <td>0.256148</td>\n",
       "      <td>0.818216</td>\n",
       "      <td>0.438006</td>\n",
       "      <td>0.6</td>\n",
       "      <td>0.155665</td>\n",
       "    </tr>\n",
       "    <tr>\n",
       "      <th>2</th>\n",
       "      <td>1</td>\n",
       "      <td>Lukas Graham</td>\n",
       "      <td>spotify:track:2JqnpexlO9dmvjUMCaLCLJ</td>\n",
       "      <td>Love Someone</td>\n",
       "      <td>0.790207</td>\n",
       "      <td>0.894020</td>\n",
       "      <td>0.818182</td>\n",
       "      <td>0.0</td>\n",
       "      <td>0.223439</td>\n",
       "      <td>0.161647</td>\n",
       "      <td>0.00000</td>\n",
       "      <td>0.458183</td>\n",
       "      <td>0.280738</td>\n",
       "      <td>0.878556</td>\n",
       "      <td>0.474882</td>\n",
       "      <td>0.8</td>\n",
       "      <td>0.210605</td>\n",
       "    </tr>\n",
       "    <tr>\n",
       "      <th>3</th>\n",
       "      <td>0</td>\n",
       "      <td>Keys N Krates</td>\n",
       "      <td>spotify:track:0cjfLhk8WJ3etPTCseKXtk</td>\n",
       "      <td>Music To My Ears (feat. Tory Lanez)</td>\n",
       "      <td>0.757100</td>\n",
       "      <td>0.947779</td>\n",
       "      <td>0.000000</td>\n",
       "      <td>0.0</td>\n",
       "      <td>0.227006</td>\n",
       "      <td>0.005151</td>\n",
       "      <td>0.00000</td>\n",
       "      <td>0.614285</td>\n",
       "      <td>0.298156</td>\n",
       "      <td>0.504558</td>\n",
       "      <td>0.459532</td>\n",
       "      <td>0.8</td>\n",
       "      <td>0.138515</td>\n",
       "    </tr>\n",
       "    <tr>\n",
       "      <th>4</th>\n",
       "      <td>1</td>\n",
       "      <td>Zay Hilfigerrr &amp; Zayion McCall</td>\n",
       "      <td>spotify:track:1lItf5ZXJc1by9SbPeljFd</td>\n",
       "      <td>Juju On That Beat (TZ Anthem)</td>\n",
       "      <td>0.929212</td>\n",
       "      <td>0.985655</td>\n",
       "      <td>0.090909</td>\n",
       "      <td>1.0</td>\n",
       "      <td>0.667670</td>\n",
       "      <td>0.003825</td>\n",
       "      <td>0.00000</td>\n",
       "      <td>0.773971</td>\n",
       "      <td>0.799180</td>\n",
       "      <td>0.837173</td>\n",
       "      <td>0.387793</td>\n",
       "      <td>0.8</td>\n",
       "      <td>0.117248</td>\n",
       "    </tr>\n",
       "  </tbody>\n",
       "</table>\n",
       "</div>"
      ],
      "text/plain": [
       "   target                          artist  \\\n",
       "0       1                    Alessia Cara   \n",
       "1       0                       Esquivel!   \n",
       "2       1                    Lukas Graham   \n",
       "3       0                   Keys N Krates   \n",
       "4       1  Zay Hilfigerrr & Zayion McCall   \n",
       "\n",
       "                                    uri                                track  \\\n",
       "0  spotify:track:2ZyuwVvV6Z3XJaXIFbspeE                          Wild Things   \n",
       "1  spotify:track:61APOtq25SCMuK0V5w2Kgp                            Surfboard   \n",
       "2  spotify:track:2JqnpexlO9dmvjUMCaLCLJ                         Love Someone   \n",
       "3  spotify:track:0cjfLhk8WJ3etPTCseKXtk  Music To My Ears (feat. Tory Lanez)   \n",
       "4  spotify:track:1lItf5ZXJc1by9SbPeljFd        Juju On That Beat (TZ Anthem)   \n",
       "\n",
       "   danceability    energy       key  mode  speechiness  acousticness  \\\n",
       "0      0.898278  0.943612  0.090909   0.0     0.365572      0.020080   \n",
       "1      0.715028  0.831420  0.454545   0.0     0.114780      0.874498   \n",
       "2      0.790207  0.894020  0.818182   0.0     0.223439      0.161647   \n",
       "3      0.757100  0.947779  0.000000   0.0     0.227006      0.005151   \n",
       "4      0.929212  0.985655  0.090909   1.0     0.667670      0.003825   \n",
       "\n",
       "   instrumentalness  liveness   valence     tempo  duration_ms  \\\n",
       "0           0.00000  0.392967  0.723361  0.601286     0.453660   \n",
       "1           0.81809  0.425668  0.256148  0.818216     0.438006   \n",
       "2           0.00000  0.458183  0.280738  0.878556     0.474882   \n",
       "3           0.00000  0.614285  0.298156  0.504558     0.459532   \n",
       "4           0.00000  0.773971  0.799180  0.837173     0.387793   \n",
       "\n",
       "   time_signature  chorus_hit  \n",
       "0             0.8    0.193225  \n",
       "1             0.6    0.155665  \n",
       "2             0.8    0.210605  \n",
       "3             0.8    0.138515  \n",
       "4             0.8    0.117248  "
      ]
     },
     "execution_count": 29,
     "metadata": {},
     "output_type": "execute_result"
    }
   ],
   "source": [
    "data.head()"
   ]
  },
  {
   "cell_type": "code",
   "execution_count": 30,
   "metadata": {
    "id": "d1gfsznIj9jv"
   },
   "outputs": [],
   "source": [
    "data.drop([\"artist\",\"uri\",\"track\"],axis=1,inplace=True) #remove atributos desnecessários\n"
   ]
  },
  {
   "cell_type": "code",
   "execution_count": 31,
   "metadata": {
    "colab": {
     "base_uri": "https://localhost:8080/",
     "height": 224
    },
    "id": "tN_c7d_2j_gK",
    "outputId": "ce958e50-8f41-47da-ad88-fd0d8120c13b"
   },
   "outputs": [
    {
     "data": {
      "text/html": [
       "<div>\n",
       "<style scoped>\n",
       "    .dataframe tbody tr th:only-of-type {\n",
       "        vertical-align: middle;\n",
       "    }\n",
       "\n",
       "    .dataframe tbody tr th {\n",
       "        vertical-align: top;\n",
       "    }\n",
       "\n",
       "    .dataframe thead th {\n",
       "        text-align: right;\n",
       "    }\n",
       "</style>\n",
       "<table border=\"1\" class=\"dataframe\">\n",
       "  <thead>\n",
       "    <tr style=\"text-align: right;\">\n",
       "      <th></th>\n",
       "      <th>target</th>\n",
       "      <th>danceability</th>\n",
       "      <th>energy</th>\n",
       "      <th>key</th>\n",
       "      <th>mode</th>\n",
       "      <th>speechiness</th>\n",
       "      <th>acousticness</th>\n",
       "      <th>instrumentalness</th>\n",
       "      <th>liveness</th>\n",
       "      <th>valence</th>\n",
       "      <th>tempo</th>\n",
       "      <th>duration_ms</th>\n",
       "      <th>time_signature</th>\n",
       "      <th>chorus_hit</th>\n",
       "    </tr>\n",
       "  </thead>\n",
       "  <tbody>\n",
       "    <tr>\n",
       "      <th>0</th>\n",
       "      <td>1</td>\n",
       "      <td>0.898278</td>\n",
       "      <td>0.943612</td>\n",
       "      <td>0.090909</td>\n",
       "      <td>0.0</td>\n",
       "      <td>0.365572</td>\n",
       "      <td>0.020080</td>\n",
       "      <td>0.00000</td>\n",
       "      <td>0.392967</td>\n",
       "      <td>0.723361</td>\n",
       "      <td>0.601286</td>\n",
       "      <td>0.453660</td>\n",
       "      <td>0.8</td>\n",
       "      <td>0.193225</td>\n",
       "    </tr>\n",
       "    <tr>\n",
       "      <th>1</th>\n",
       "      <td>0</td>\n",
       "      <td>0.715028</td>\n",
       "      <td>0.831420</td>\n",
       "      <td>0.454545</td>\n",
       "      <td>0.0</td>\n",
       "      <td>0.114780</td>\n",
       "      <td>0.874498</td>\n",
       "      <td>0.81809</td>\n",
       "      <td>0.425668</td>\n",
       "      <td>0.256148</td>\n",
       "      <td>0.818216</td>\n",
       "      <td>0.438006</td>\n",
       "      <td>0.6</td>\n",
       "      <td>0.155665</td>\n",
       "    </tr>\n",
       "    <tr>\n",
       "      <th>2</th>\n",
       "      <td>1</td>\n",
       "      <td>0.790207</td>\n",
       "      <td>0.894020</td>\n",
       "      <td>0.818182</td>\n",
       "      <td>0.0</td>\n",
       "      <td>0.223439</td>\n",
       "      <td>0.161647</td>\n",
       "      <td>0.00000</td>\n",
       "      <td>0.458183</td>\n",
       "      <td>0.280738</td>\n",
       "      <td>0.878556</td>\n",
       "      <td>0.474882</td>\n",
       "      <td>0.8</td>\n",
       "      <td>0.210605</td>\n",
       "    </tr>\n",
       "    <tr>\n",
       "      <th>3</th>\n",
       "      <td>0</td>\n",
       "      <td>0.757100</td>\n",
       "      <td>0.947779</td>\n",
       "      <td>0.000000</td>\n",
       "      <td>0.0</td>\n",
       "      <td>0.227006</td>\n",
       "      <td>0.005151</td>\n",
       "      <td>0.00000</td>\n",
       "      <td>0.614285</td>\n",
       "      <td>0.298156</td>\n",
       "      <td>0.504558</td>\n",
       "      <td>0.459532</td>\n",
       "      <td>0.8</td>\n",
       "      <td>0.138515</td>\n",
       "    </tr>\n",
       "    <tr>\n",
       "      <th>4</th>\n",
       "      <td>1</td>\n",
       "      <td>0.929212</td>\n",
       "      <td>0.985655</td>\n",
       "      <td>0.090909</td>\n",
       "      <td>1.0</td>\n",
       "      <td>0.667670</td>\n",
       "      <td>0.003825</td>\n",
       "      <td>0.00000</td>\n",
       "      <td>0.773971</td>\n",
       "      <td>0.799180</td>\n",
       "      <td>0.837173</td>\n",
       "      <td>0.387793</td>\n",
       "      <td>0.8</td>\n",
       "      <td>0.117248</td>\n",
       "    </tr>\n",
       "  </tbody>\n",
       "</table>\n",
       "</div>"
      ],
      "text/plain": [
       "   target  danceability    energy       key  mode  speechiness  acousticness  \\\n",
       "0       1      0.898278  0.943612  0.090909   0.0     0.365572      0.020080   \n",
       "1       0      0.715028  0.831420  0.454545   0.0     0.114780      0.874498   \n",
       "2       1      0.790207  0.894020  0.818182   0.0     0.223439      0.161647   \n",
       "3       0      0.757100  0.947779  0.000000   0.0     0.227006      0.005151   \n",
       "4       1      0.929212  0.985655  0.090909   1.0     0.667670      0.003825   \n",
       "\n",
       "   instrumentalness  liveness   valence     tempo  duration_ms  \\\n",
       "0           0.00000  0.392967  0.723361  0.601286     0.453660   \n",
       "1           0.81809  0.425668  0.256148  0.818216     0.438006   \n",
       "2           0.00000  0.458183  0.280738  0.878556     0.474882   \n",
       "3           0.00000  0.614285  0.298156  0.504558     0.459532   \n",
       "4           0.00000  0.773971  0.799180  0.837173     0.387793   \n",
       "\n",
       "   time_signature  chorus_hit  \n",
       "0             0.8    0.193225  \n",
       "1             0.6    0.155665  \n",
       "2             0.8    0.210605  \n",
       "3             0.8    0.138515  \n",
       "4             0.8    0.117248  "
      ]
     },
     "execution_count": 31,
     "metadata": {},
     "output_type": "execute_result"
    }
   ],
   "source": [
    "data.head()"
   ]
  },
  {
   "cell_type": "markdown",
   "metadata": {
    "id": "uLYVrBenkCr3"
   },
   "source": [
    "## Selecionando Threshold para Classificação\n"
   ]
  },
  {
   "cell_type": "code",
   "execution_count": 32,
   "metadata": {
    "colab": {
     "base_uri": "https://localhost:8080/",
     "height": 419
    },
    "id": "tlFRWIb_kARE",
    "outputId": "456ea0fc-3ee7-4252-fd44-b1b0889fd6af"
   },
   "outputs": [
    {
     "data": {
      "text/html": [
       "<div>\n",
       "<style scoped>\n",
       "    .dataframe tbody tr th:only-of-type {\n",
       "        vertical-align: middle;\n",
       "    }\n",
       "\n",
       "    .dataframe tbody tr th {\n",
       "        vertical-align: top;\n",
       "    }\n",
       "\n",
       "    .dataframe thead th {\n",
       "        text-align: right;\n",
       "    }\n",
       "</style>\n",
       "<table border=\"1\" class=\"dataframe\">\n",
       "  <thead>\n",
       "    <tr style=\"text-align: right;\">\n",
       "      <th></th>\n",
       "      <th>target</th>\n",
       "    </tr>\n",
       "  </thead>\n",
       "  <tbody>\n",
       "    <tr>\n",
       "      <th>0</th>\n",
       "      <td>1</td>\n",
       "    </tr>\n",
       "    <tr>\n",
       "      <th>1</th>\n",
       "      <td>0</td>\n",
       "    </tr>\n",
       "    <tr>\n",
       "      <th>2</th>\n",
       "      <td>1</td>\n",
       "    </tr>\n",
       "    <tr>\n",
       "      <th>3</th>\n",
       "      <td>0</td>\n",
       "    </tr>\n",
       "    <tr>\n",
       "      <th>4</th>\n",
       "      <td>1</td>\n",
       "    </tr>\n",
       "    <tr>\n",
       "      <th>...</th>\n",
       "      <td>...</td>\n",
       "    </tr>\n",
       "    <tr>\n",
       "      <th>6393</th>\n",
       "      <td>0</td>\n",
       "    </tr>\n",
       "    <tr>\n",
       "      <th>6394</th>\n",
       "      <td>1</td>\n",
       "    </tr>\n",
       "    <tr>\n",
       "      <th>6395</th>\n",
       "      <td>1</td>\n",
       "    </tr>\n",
       "    <tr>\n",
       "      <th>6396</th>\n",
       "      <td>0</td>\n",
       "    </tr>\n",
       "    <tr>\n",
       "      <th>6397</th>\n",
       "      <td>0</td>\n",
       "    </tr>\n",
       "  </tbody>\n",
       "</table>\n",
       "<p>6398 rows × 1 columns</p>\n",
       "</div>"
      ],
      "text/plain": [
       "      target\n",
       "0          1\n",
       "1          0\n",
       "2          1\n",
       "3          0\n",
       "4          1\n",
       "...      ...\n",
       "6393       0\n",
       "6394       1\n",
       "6395       1\n",
       "6396       0\n",
       "6397       0\n",
       "\n",
       "[6398 rows x 1 columns]"
      ]
     },
     "execution_count": 32,
     "metadata": {},
     "output_type": "execute_result"
    }
   ],
   "source": [
    "X = data.iloc[:,1:]\n",
    "Y = data.iloc[:,[0]]\n",
    "Y"
   ]
  },
  {
   "cell_type": "code",
   "execution_count": 33,
   "metadata": {
    "id": "gEEUTrhVkJCz"
   },
   "outputs": [],
   "source": [
    "from sklearn.model_selection import train_test_split #separa trieno e teste\n",
    "x_train,x_test,y_train,y_test = train_test_split(X,Y,test_size=0.2,random_state=30)"
   ]
  },
  {
   "cell_type": "code",
   "execution_count": 34,
   "metadata": {
    "id": "uvRI3qgfkJv4"
   },
   "outputs": [],
   "source": [
    "from sklearn.datasets import make_classification\n",
    "from sklearn.metrics import roc_auc_score\n",
    "from sklearn.metrics import roc_auc_score"
   ]
  },
  {
   "cell_type": "code",
   "execution_count": 35,
   "metadata": {
    "colab": {
     "base_uri": "https://localhost:8080/"
    },
    "id": "nvYexcMYkLvn",
    "outputId": "2ebb2b61-7618-4d2e-cce0-b311bf42506a"
   },
   "outputs": [
    {
     "name": "stdout",
     "output_type": "stream",
     "text": [
      "roc train score : 0.8371269641343149\n",
      "roc test score : 0.8395462347790628\n"
     ]
    },
    {
     "name": "stderr",
     "output_type": "stream",
     "text": [
      "C:\\Users\\Alane\\anaconda3\\lib\\site-packages\\sklearn\\utils\\validation.py:724: DataConversionWarning: A column-vector y was passed when a 1d array was expected. Please change the shape of y to (n_samples, ), for example using ravel().\n",
      "  y = column_or_1d(y, warn=True)\n"
     ]
    }
   ],
   "source": [
    "from sklearn.linear_model import LogisticRegression \n",
    "lr = LogisticRegression(solver='liblinear')\n",
    "lr.fit(x_train,y_train)\n",
    "ytrain_pred = lr.predict_proba(x_train)\n",
    "ytest_pred = lr.predict_proba(x_test)\n",
    "print(\"roc train score :\",roc_auc_score(y_train,ytrain_pred[:,1]))\n",
    "print(\"roc test score :\",roc_auc_score(y_test,ytest_pred[:,1]))"
   ]
  },
  {
   "cell_type": "code",
   "execution_count": 36,
   "metadata": {
    "colab": {
     "base_uri": "https://localhost:8080/"
    },
    "id": "Yst3ldtxkQ0W",
    "outputId": "55c1c452-c9ad-4efb-9d6f-f164ecd71ebe"
   },
   "outputs": [
    {
     "name": "stderr",
     "output_type": "stream",
     "text": [
      "C:\\Users\\Alane\\anaconda3\\lib\\site-packages\\sklearn\\ensemble\\forest.py:245: FutureWarning: The default value of n_estimators will change from 10 in version 0.20 to 100 in 0.22.\n",
      "  \"10 in version 0.20 to 100 in 0.22.\", FutureWarning)\n"
     ]
    },
    {
     "name": "stdout",
     "output_type": "stream",
     "text": [
      "roc train score : 0.9995253825648645\n",
      "roc test score : 0.9003664989219902\n"
     ]
    },
    {
     "name": "stderr",
     "output_type": "stream",
     "text": [
      "C:\\Users\\Alane\\anaconda3\\lib\\site-packages\\ipykernel_launcher.py:3: DataConversionWarning: A column-vector y was passed when a 1d array was expected. Please change the shape of y to (n_samples,), for example using ravel().\n",
      "  This is separate from the ipykernel package so we can avoid doing imports until\n"
     ]
    }
   ],
   "source": [
    "from sklearn.ensemble import RandomForestClassifier\n",
    "random_model = RandomForestClassifier()\n",
    "random_model.fit(x_train,y_train)\n",
    "ytrain_pred = random_model.predict_proba(x_train)\n",
    "ytest_pred = random_model.predict_proba(x_test)\n",
    "print(\"roc train score :\",roc_auc_score(y_train,ytrain_pred[:,1]))\n",
    "print(\"roc test score :\",roc_auc_score(y_test,ytest_pred[:,1]))"
   ]
  },
  {
   "cell_type": "code",
   "execution_count": 37,
   "metadata": {
    "colab": {
     "base_uri": "https://localhost:8080/"
    },
    "id": "KNtJwtL5kTPK",
    "outputId": "1b523524-34dd-4762-e62f-f7dee804d20c"
   },
   "outputs": [
    {
     "name": "stderr",
     "output_type": "stream",
     "text": [
      "C:\\Users\\Alane\\anaconda3\\lib\\site-packages\\sklearn\\utils\\validation.py:724: DataConversionWarning: A column-vector y was passed when a 1d array was expected. Please change the shape of y to (n_samples, ), for example using ravel().\n",
      "  y = column_or_1d(y, warn=True)\n"
     ]
    },
    {
     "name": "stdout",
     "output_type": "stream",
     "text": [
      "roc train score : 0.9075699342987755\n",
      "roc test score : 0.8930853544491407\n"
     ]
    }
   ],
   "source": [
    "from sklearn.ensemble import AdaBoostClassifier\n",
    "ada_model = AdaBoostClassifier()\n",
    "ada_model.fit(x_train,y_train)\n",
    "ytrain_pred = ada_model.predict_proba(x_train)\n",
    "ytest_pred  = ada_model.predict_proba(x_test)\n",
    "print(\"roc train score :\",roc_auc_score(y_train,ytrain_pred[:,1]))\n",
    "print(\"roc test score :\",roc_auc_score(y_test,ytest_pred[:,1]))"
   ]
  },
  {
   "cell_type": "code",
   "execution_count": 38,
   "metadata": {
    "colab": {
     "base_uri": "https://localhost:8080/"
    },
    "id": "R1rB8KWBkYSJ",
    "outputId": "8e4f1e68-85b6-4330-dd7c-dd2931376347"
   },
   "outputs": [
    {
     "name": "stderr",
     "output_type": "stream",
     "text": [
      "C:\\Users\\Alane\\anaconda3\\lib\\site-packages\\ipykernel_launcher.py:3: DataConversionWarning: A column-vector y was passed when a 1d array was expected. Please change the shape of y to (n_samples, ), for example using ravel().\n",
      "  This is separate from the ipykernel package so we can avoid doing imports until\n"
     ]
    },
    {
     "name": "stdout",
     "output_type": "stream",
     "text": [
      "roc train score : 0.9153957771875771\n",
      "roc test score : 0.8228437972316024\n"
     ]
    }
   ],
   "source": [
    "from sklearn.neighbors import KNeighborsClassifier\n",
    "knn_model = KNeighborsClassifier()\n",
    "knn_model.fit(x_train,y_train)\n",
    "ytrain_pred = knn_model.predict_proba(x_train)\n",
    "ytest_pred  = knn_model.predict_proba(x_test)\n",
    "print(\"roc train score :\",roc_auc_score(y_train,ytrain_pred[:,1]))\n",
    "print(\"roc test score :\",roc_auc_score(y_test,ytest_pred[:,1]))"
   ]
  },
  {
   "cell_type": "code",
   "execution_count": 39,
   "metadata": {
    "colab": {
     "base_uri": "https://localhost:8080/"
    },
    "id": "oqCLLGEBkayh",
    "outputId": "1d9e7b29-d384-49f8-8685-1aadd5d36a21"
   },
   "outputs": [
    {
     "name": "stdout",
     "output_type": "stream",
     "text": [
      "test ROC-AUC 0.8993336605209119\n"
     ]
    }
   ],
   "source": [
    "pred = [] #preve probabilidade de todos os modelos de teste\n",
    "for model in [lr,random_model,ada_model,knn_model]:\n",
    "    pred.append(pd.Series(model.predict_proba(x_test)[:,1]))\n",
    "final_prediction = pd.concat(pred,axis=1).mean(axis=1)\n",
    "print(\"test ROC-AUC\",roc_auc_score(y_test,final_prediction))"
   ]
  },
  {
   "cell_type": "code",
   "execution_count": 40,
   "metadata": {
    "colab": {
     "base_uri": "https://localhost:8080/",
     "height": 419
    },
    "id": "i1Cg_1EHkc0m",
    "outputId": "af477457-283e-4705-dfbf-5d2aa51de1de"
   },
   "outputs": [
    {
     "data": {
      "text/html": [
       "<div>\n",
       "<style scoped>\n",
       "    .dataframe tbody tr th:only-of-type {\n",
       "        vertical-align: middle;\n",
       "    }\n",
       "\n",
       "    .dataframe tbody tr th {\n",
       "        vertical-align: top;\n",
       "    }\n",
       "\n",
       "    .dataframe thead th {\n",
       "        text-align: right;\n",
       "    }\n",
       "</style>\n",
       "<table border=\"1\" class=\"dataframe\">\n",
       "  <thead>\n",
       "    <tr style=\"text-align: right;\">\n",
       "      <th></th>\n",
       "      <th>0</th>\n",
       "      <th>1</th>\n",
       "      <th>2</th>\n",
       "      <th>3</th>\n",
       "    </tr>\n",
       "  </thead>\n",
       "  <tbody>\n",
       "    <tr>\n",
       "      <th>0</th>\n",
       "      <td>0.681685</td>\n",
       "      <td>0.3</td>\n",
       "      <td>0.495108</td>\n",
       "      <td>0.8</td>\n",
       "    </tr>\n",
       "    <tr>\n",
       "      <th>1</th>\n",
       "      <td>0.456087</td>\n",
       "      <td>0.4</td>\n",
       "      <td>0.497565</td>\n",
       "      <td>1.0</td>\n",
       "    </tr>\n",
       "    <tr>\n",
       "      <th>2</th>\n",
       "      <td>0.841184</td>\n",
       "      <td>0.6</td>\n",
       "      <td>0.506588</td>\n",
       "      <td>1.0</td>\n",
       "    </tr>\n",
       "    <tr>\n",
       "      <th>3</th>\n",
       "      <td>0.666391</td>\n",
       "      <td>1.0</td>\n",
       "      <td>0.513040</td>\n",
       "      <td>0.4</td>\n",
       "    </tr>\n",
       "    <tr>\n",
       "      <th>4</th>\n",
       "      <td>0.709843</td>\n",
       "      <td>1.0</td>\n",
       "      <td>0.512877</td>\n",
       "      <td>0.8</td>\n",
       "    </tr>\n",
       "    <tr>\n",
       "      <th>...</th>\n",
       "      <td>...</td>\n",
       "      <td>...</td>\n",
       "      <td>...</td>\n",
       "      <td>...</td>\n",
       "    </tr>\n",
       "    <tr>\n",
       "      <th>1275</th>\n",
       "      <td>0.731032</td>\n",
       "      <td>1.0</td>\n",
       "      <td>0.514139</td>\n",
       "      <td>0.8</td>\n",
       "    </tr>\n",
       "    <tr>\n",
       "      <th>1276</th>\n",
       "      <td>0.365491</td>\n",
       "      <td>0.0</td>\n",
       "      <td>0.499713</td>\n",
       "      <td>0.8</td>\n",
       "    </tr>\n",
       "    <tr>\n",
       "      <th>1277</th>\n",
       "      <td>0.723330</td>\n",
       "      <td>0.8</td>\n",
       "      <td>0.501418</td>\n",
       "      <td>1.0</td>\n",
       "    </tr>\n",
       "    <tr>\n",
       "      <th>1278</th>\n",
       "      <td>0.622039</td>\n",
       "      <td>0.7</td>\n",
       "      <td>0.509730</td>\n",
       "      <td>0.8</td>\n",
       "    </tr>\n",
       "    <tr>\n",
       "      <th>1279</th>\n",
       "      <td>0.649246</td>\n",
       "      <td>1.0</td>\n",
       "      <td>0.511790</td>\n",
       "      <td>0.8</td>\n",
       "    </tr>\n",
       "  </tbody>\n",
       "</table>\n",
       "<p>1280 rows × 4 columns</p>\n",
       "</div>"
      ],
      "text/plain": [
       "             0    1         2    3\n",
       "0     0.681685  0.3  0.495108  0.8\n",
       "1     0.456087  0.4  0.497565  1.0\n",
       "2     0.841184  0.6  0.506588  1.0\n",
       "3     0.666391  1.0  0.513040  0.4\n",
       "4     0.709843  1.0  0.512877  0.8\n",
       "...        ...  ...       ...  ...\n",
       "1275  0.731032  1.0  0.514139  0.8\n",
       "1276  0.365491  0.0  0.499713  0.8\n",
       "1277  0.723330  0.8  0.501418  1.0\n",
       "1278  0.622039  0.7  0.509730  0.8\n",
       "1279  0.649246  1.0  0.511790  0.8\n",
       "\n",
       "[1280 rows x 4 columns]"
      ]
     },
     "execution_count": 40,
     "metadata": {},
     "output_type": "execute_result"
    }
   ],
   "source": [
    "pd.concat(pred,axis=1)"
   ]
  },
  {
   "cell_type": "code",
   "execution_count": 41,
   "metadata": {
    "colab": {
     "base_uri": "https://localhost:8080/"
    },
    "id": "gMsLLPTRkfQW",
    "outputId": "52f58ca0-bc65-4c33-93b6-0c761b37a21e"
   },
   "outputs": [
    {
     "data": {
      "text/plain": [
       "array([1.84485188, 0.84485188, 0.84474936, 0.83644083, 0.83637352,\n",
       "       0.83588845, 0.83521817, 0.83138582, 0.82982201, 0.81722783,\n",
       "       0.81699317, 0.78512626, 0.78503471, 0.78208245, 0.7819943 ,\n",
       "       0.78094236, 0.78074388, 0.78006117, 0.77989333, 0.7668885 ,\n",
       "       0.76678011, 0.76294838, 0.76283188, 0.75979734, 0.75948487,\n",
       "       0.75542467, 0.75465868, 0.75457749, 0.75440847, 0.75290395,\n",
       "       0.75271996, 0.74835678, 0.74822786, 0.7465694 , 0.74648877,\n",
       "       0.74609383, 0.74574769, 0.7420391 , 0.74160354, 0.73465202,\n",
       "       0.73460631, 0.73311479, 0.73290779, 0.73007035, 0.72990103,\n",
       "       0.72818697, 0.72752176, 0.72370781, 0.72370393, 0.71982052,\n",
       "       0.71981735, 0.70844541, 0.70826174, 0.70813888, 0.70800089,\n",
       "       0.70686279, 0.7066935 , 0.70277184, 0.70259496, 0.70196596,\n",
       "       0.7015012 , 0.70095708, 0.70091558, 0.69655262, 0.696273  ,\n",
       "       0.6946099 , 0.69441206, 0.68765756, 0.68758835, 0.68728004,\n",
       "       0.68711985, 0.68703939, 0.68697614, 0.68516836, 0.68484129,\n",
       "       0.68371035, 0.68318266, 0.68278831, 0.68276566, 0.68019422,\n",
       "       0.68019336, 0.67972038, 0.67964044, 0.67845087, 0.67820221,\n",
       "       0.67559535, 0.67454504, 0.67410562, 0.67407312, 0.67254375,\n",
       "       0.67251353, 0.67194946, 0.67182974, 0.66932789, 0.66919695,\n",
       "       0.66852795, 0.66849769, 0.66716606, 0.66651856, 0.66575422,\n",
       "       0.66570142, 0.66510795, 0.66509154, 0.66318572, 0.663114  ,\n",
       "       0.66279949, 0.66256854, 0.66153199, 0.66142773, 0.6604064 ,\n",
       "       0.66031754, 0.66026581, 0.66006364, 0.65981017, 0.65980109,\n",
       "       0.65858649, 0.65823726, 0.65794232, 0.65674494, 0.65634848,\n",
       "       0.65624878, 0.65612506, 0.65597642, 0.65309243, 0.6529209 ,\n",
       "       0.65037339, 0.65034332, 0.64942426, 0.6492145 , 0.64858696,\n",
       "       0.64768238, 0.6463205 , 0.64600572, 0.64496069, 0.64485883,\n",
       "       0.64485778, 0.64470352, 0.64264429, 0.64161491, 0.64129679,\n",
       "       0.64103659, 0.63905424, 0.6389518 , 0.63877995, 0.6382385 ,\n",
       "       0.63808327, 0.63678423, 0.63630346, 0.63596083, 0.63296602,\n",
       "       0.63287242, 0.63194026, 0.63036058, 0.62901461, 0.62652592,\n",
       "       0.62507255, 0.62364657, 0.62251118, 0.62159786, 0.62138058,\n",
       "       0.6201995 , 0.61920555, 0.61880067, 0.61852347, 0.61807226,\n",
       "       0.6177483 , 0.61762639, 0.61244027, 0.61206893, 0.60969258,\n",
       "       0.60908063, 0.60701158, 0.60595704, 0.60365352, 0.60356156,\n",
       "       0.60300656, 0.60268004, 0.60233819, 0.60229772, 0.59638762,\n",
       "       0.59372294, 0.59285913, 0.59195605, 0.59135211, 0.59130143,\n",
       "       0.58976945, 0.58899372, 0.58841291, 0.58830011, 0.58739644,\n",
       "       0.58698927, 0.58566313, 0.58500937, 0.58444445, 0.58378397,\n",
       "       0.58363201, 0.58349429, 0.58246514, 0.58109598, 0.58073171,\n",
       "       0.57887343, 0.57845968, 0.57765048, 0.57557803, 0.57520934,\n",
       "       0.57492505, 0.57450591, 0.57347657, 0.57308498, 0.57098251,\n",
       "       0.56986497, 0.5675787 , 0.56746401, 0.56682538, 0.56640974,\n",
       "       0.56610514, 0.56605777, 0.56557224, 0.56065438, 0.55648164,\n",
       "       0.5563928 , 0.55470368, 0.55283488, 0.55119763, 0.55056602,\n",
       "       0.54972839, 0.54941707, 0.54744102, 0.54690035, 0.54480943,\n",
       "       0.54290002, 0.53784873, 0.53735813, 0.53341534, 0.5330032 ,\n",
       "       0.53248502, 0.52750216, 0.52704407, 0.52680814, 0.52433981,\n",
       "       0.5242151 , 0.52266745, 0.52186955, 0.518092  , 0.51658196,\n",
       "       0.51499695, 0.51350117, 0.51063495, 0.51051062, 0.5079646 ,\n",
       "       0.50456217, 0.50358784, 0.50279121, 0.50238149, 0.49897492,\n",
       "       0.49864906, 0.49585703, 0.49489475, 0.49425269, 0.49211536,\n",
       "       0.49177049, 0.48991331, 0.48805452, 0.48791484, 0.48542674,\n",
       "       0.48042951, 0.47424806, 0.47107335, 0.46285532, 0.45901968,\n",
       "       0.45501451, 0.45321573, 0.44383137, 0.44176929, 0.43981068,\n",
       "       0.43917634, 0.43523645, 0.41920053, 0.41917674, 0.4163409 ,\n",
       "       0.41630088, 0.40526173, 0.40425899, 0.39861477, 0.39711204,\n",
       "       0.38973066, 0.3851171 , 0.37945306, 0.37893943, 0.37704428,\n",
       "       0.37551014, 0.3163336 , 0.3161337 , 0.31396048, 0.3105947 ,\n",
       "       0.30666382, 0.30661747, 0.30473485, 0.30257842, 0.26777401,\n",
       "       0.26508805, 0.25534299, 0.25170931, 0.24959377, 0.24465906,\n",
       "       0.22583885, 0.2232782 , 0.15086376, 0.14980141, 0.13579214,\n",
       "       0.13523882, 0.12291816, 0.12249101, 0.12038222, 0.12012464,\n",
       "       0.11742644, 0.11737861, 0.11568539, 0.11566469, 0.11464683,\n",
       "       0.11456298, 0.11191226, 0.11174468, 0.07435524, 0.07360378,\n",
       "       0.06729849])"
      ]
     },
     "execution_count": 41,
     "metadata": {},
     "output_type": "execute_result"
    }
   ],
   "source": [
    "from sklearn.metrics import roc_curve, auc\n",
    "fpr,tpr,threshold = roc_curve(y_test,final_prediction)\n",
    "threshold"
   ]
  },
  {
   "cell_type": "code",
   "execution_count": 42,
   "metadata": {
    "colab": {
     "base_uri": "https://localhost:8080/",
     "height": 204
    },
    "id": "CEv8Q8xopbvc",
    "outputId": "bb20fde2-50e0-4672-a05f-390578f98d64"
   },
   "outputs": [
    {
     "data": {
      "text/html": [
       "<div>\n",
       "<style scoped>\n",
       "    .dataframe tbody tr th:only-of-type {\n",
       "        vertical-align: middle;\n",
       "    }\n",
       "\n",
       "    .dataframe tbody tr th {\n",
       "        vertical-align: top;\n",
       "    }\n",
       "\n",
       "    .dataframe thead th {\n",
       "        text-align: right;\n",
       "    }\n",
       "</style>\n",
       "<table border=\"1\" class=\"dataframe\">\n",
       "  <thead>\n",
       "    <tr style=\"text-align: right;\">\n",
       "      <th></th>\n",
       "      <th>threshold</th>\n",
       "      <th>accuracy</th>\n",
       "    </tr>\n",
       "  </thead>\n",
       "  <tbody>\n",
       "    <tr>\n",
       "      <th>234</th>\n",
       "      <td>0.533003</td>\n",
       "      <td>0.832031</td>\n",
       "    </tr>\n",
       "    <tr>\n",
       "      <th>231</th>\n",
       "      <td>0.537849</td>\n",
       "      <td>0.831250</td>\n",
       "    </tr>\n",
       "    <tr>\n",
       "      <th>232</th>\n",
       "      <td>0.537358</td>\n",
       "      <td>0.831250</td>\n",
       "    </tr>\n",
       "    <tr>\n",
       "      <th>233</th>\n",
       "      <td>0.533415</td>\n",
       "      <td>0.831250</td>\n",
       "    </tr>\n",
       "    <tr>\n",
       "      <th>235</th>\n",
       "      <td>0.532485</td>\n",
       "      <td>0.831250</td>\n",
       "    </tr>\n",
       "  </tbody>\n",
       "</table>\n",
       "</div>"
      ],
      "text/plain": [
       "     threshold  accuracy\n",
       "234   0.533003  0.832031\n",
       "231   0.537849  0.831250\n",
       "232   0.537358  0.831250\n",
       "233   0.533415  0.831250\n",
       "235   0.532485  0.831250"
      ]
     },
     "execution_count": 42,
     "metadata": {},
     "output_type": "execute_result"
    }
   ],
   "source": [
    "from sklearn.metrics import accuracy_score  #buscando maior precisão com threshold diferente \n",
    "accuracy_ls = []\n",
    "for thres in threshold:\n",
    "    y_pred = np.where(final_prediction>thres,1,0)\n",
    "    accuracy_ls.append(accuracy_score(y_test,y_pred,normalize=True))\n",
    "    \n",
    "accuracy_ls = pd.concat([pd.Series(threshold),pd.Series(accuracy_ls)],axis=1)\n",
    "accuracy_ls.columns = ['threshold','accuracy']\n",
    "accuracy_ls.sort_values(by='accuracy',ascending=False,inplace =True)\n",
    "accuracy_ls.head()"
   ]
  },
  {
   "cell_type": "code",
   "execution_count": 43,
   "metadata": {
    "colab": {
     "base_uri": "https://localhost:8080/",
     "height": 419
    },
    "id": "P3z_joG9kkv5",
    "outputId": "1edb19ee-72b9-4ca0-8503-5e750c532186"
   },
   "outputs": [
    {
     "data": {
      "text/html": [
       "<div>\n",
       "<style scoped>\n",
       "    .dataframe tbody tr th:only-of-type {\n",
       "        vertical-align: middle;\n",
       "    }\n",
       "\n",
       "    .dataframe tbody tr th {\n",
       "        vertical-align: top;\n",
       "    }\n",
       "\n",
       "    .dataframe thead th {\n",
       "        text-align: right;\n",
       "    }\n",
       "</style>\n",
       "<table border=\"1\" class=\"dataframe\">\n",
       "  <thead>\n",
       "    <tr style=\"text-align: right;\">\n",
       "      <th></th>\n",
       "      <th>threshold</th>\n",
       "      <th>accuracy</th>\n",
       "    </tr>\n",
       "  </thead>\n",
       "  <tbody>\n",
       "    <tr>\n",
       "      <th>234</th>\n",
       "      <td>0.533003</td>\n",
       "      <td>0.832031</td>\n",
       "    </tr>\n",
       "    <tr>\n",
       "      <th>231</th>\n",
       "      <td>0.537849</td>\n",
       "      <td>0.831250</td>\n",
       "    </tr>\n",
       "    <tr>\n",
       "      <th>232</th>\n",
       "      <td>0.537358</td>\n",
       "      <td>0.831250</td>\n",
       "    </tr>\n",
       "    <tr>\n",
       "      <th>233</th>\n",
       "      <td>0.533415</td>\n",
       "      <td>0.831250</td>\n",
       "    </tr>\n",
       "    <tr>\n",
       "      <th>235</th>\n",
       "      <td>0.532485</td>\n",
       "      <td>0.831250</td>\n",
       "    </tr>\n",
       "    <tr>\n",
       "      <th>...</th>\n",
       "      <td>...</td>\n",
       "      <td>...</td>\n",
       "    </tr>\n",
       "    <tr>\n",
       "      <th>5</th>\n",
       "      <td>0.835888</td>\n",
       "      <td>0.507031</td>\n",
       "    </tr>\n",
       "    <tr>\n",
       "      <th>2</th>\n",
       "      <td>0.844749</td>\n",
       "      <td>0.506250</td>\n",
       "    </tr>\n",
       "    <tr>\n",
       "      <th>0</th>\n",
       "      <td>1.844852</td>\n",
       "      <td>0.505469</td>\n",
       "    </tr>\n",
       "    <tr>\n",
       "      <th>1</th>\n",
       "      <td>0.844852</td>\n",
       "      <td>0.505469</td>\n",
       "    </tr>\n",
       "    <tr>\n",
       "      <th>325</th>\n",
       "      <td>0.067298</td>\n",
       "      <td>0.495312</td>\n",
       "    </tr>\n",
       "  </tbody>\n",
       "</table>\n",
       "<p>326 rows × 2 columns</p>\n",
       "</div>"
      ],
      "text/plain": [
       "     threshold  accuracy\n",
       "234   0.533003  0.832031\n",
       "231   0.537849  0.831250\n",
       "232   0.537358  0.831250\n",
       "233   0.533415  0.831250\n",
       "235   0.532485  0.831250\n",
       "..         ...       ...\n",
       "5     0.835888  0.507031\n",
       "2     0.844749  0.506250\n",
       "0     1.844852  0.505469\n",
       "1     0.844852  0.505469\n",
       "325   0.067298  0.495312\n",
       "\n",
       "[326 rows x 2 columns]"
      ]
     },
     "execution_count": 43,
     "metadata": {},
     "output_type": "execute_result"
    }
   ],
   "source": [
    "accuracy_ls #precisão vs threshold"
   ]
  },
  {
   "cell_type": "markdown",
   "metadata": {
    "id": "jsXf1xcEm4Fs"
   },
   "source": [
    "## Modelo Final e Resultados"
   ]
  },
  {
   "cell_type": "code",
   "execution_count": 44,
   "metadata": {
    "colab": {
     "base_uri": "https://localhost:8080/"
    },
    "id": "OTPF4bL1knQU",
    "outputId": "7be60eff-4e5d-4717-eaaf-87456baac352"
   },
   "outputs": [
    {
     "name": "stdout",
     "output_type": "stream",
     "text": [
      "roc test score : 0.8280360687679923\n"
     ]
    },
    {
     "name": "stderr",
     "output_type": "stream",
     "text": [
      "C:\\Users\\Alane\\anaconda3\\lib\\site-packages\\sklearn\\ensemble\\forest.py:245: FutureWarning: The default value of n_estimators will change from 10 in version 0.20 to 100 in 0.22.\n",
      "  \"10 in version 0.20 to 100 in 0.22.\", FutureWarning)\n",
      "C:\\Users\\Alane\\anaconda3\\lib\\site-packages\\ipykernel_launcher.py:3: DataConversionWarning: A column-vector y was passed when a 1d array was expected. Please change the shape of y to (n_samples,), for example using ravel().\n",
      "  This is separate from the ipykernel package so we can avoid doing imports until\n"
     ]
    }
   ],
   "source": [
    "from sklearn.ensemble import RandomForestClassifier #define random forest como modelo final\n",
    "random_model = RandomForestClassifier( criterion='gini')\n",
    "random_model.fit(x_train,y_train)\n",
    "y_pred = random_model.predict(x_test)\n",
    "print(\"roc test score :\",roc_auc_score(y_test,y_pred))"
   ]
  },
  {
   "cell_type": "code",
   "execution_count": 45,
   "metadata": {
    "colab": {
     "base_uri": "https://localhost:8080/"
    },
    "id": "ShnZyF4KkpXX",
    "outputId": "fc2cd616-8d18-4ae5-8ac7-c778b03b1964"
   },
   "outputs": [
    {
     "name": "stdout",
     "output_type": "stream",
     "text": [
      "0.8328125\n"
     ]
    }
   ],
   "source": [
    "threshold = 0.493468 #melhor threshold para o modelo\n",
    "\n",
    "predicted_proba = random_model.predict_proba(x_test)\n",
    "predicted = (predicted_proba [:,1] >= threshold).astype('int')\n",
    "\n",
    "\n",
    "accuracy = accuracy_score(y_test, predicted)\n",
    "print(accuracy)"
   ]
  },
  {
   "cell_type": "code",
   "execution_count": 46,
   "metadata": {
    "colab": {
     "base_uri": "https://localhost:8080/"
    },
    "id": "DPu9Fo1Kkre9",
    "outputId": "0fdc9ef3-c627-4d7d-ce8e-5e633f3e40cc"
   },
   "outputs": [
    {
     "name": "stdout",
     "output_type": "stream",
     "text": [
      "p_score 0.8304\n",
      "r_score 0.8199052132701422\n",
      "f1 score 0.8251192368839427\n"
     ]
    }
   ],
   "source": [
    "from sklearn.metrics import precision_score, recall_score, f1_score #medindo a performance do modelo\n",
    "p_score = precision_score(y_test, y_pred)\n",
    "print('p_score',p_score)\n",
    "r_score = recall_score(y_test, y_pred)\n",
    "print('r_score',r_score)\n",
    "f1 = f1_score(y_test, y_pred)\n",
    "print('f1 score',f1)"
   ]
  },
  {
   "cell_type": "code",
   "execution_count": 47,
   "metadata": {
    "colab": {
     "base_uri": "https://localhost:8080/",
     "height": 111
    },
    "id": "mn4orswGkt_2",
    "outputId": "e104c0fa-3dd5-4f7b-bfcf-2b8df046cfd4"
   },
   "outputs": [
    {
     "data": {
      "text/html": [
       "<div>\n",
       "<style scoped>\n",
       "    .dataframe tbody tr th:only-of-type {\n",
       "        vertical-align: middle;\n",
       "    }\n",
       "\n",
       "    .dataframe tbody tr th {\n",
       "        vertical-align: top;\n",
       "    }\n",
       "\n",
       "    .dataframe thead th {\n",
       "        text-align: right;\n",
       "    }\n",
       "</style>\n",
       "<table border=\"1\" class=\"dataframe\">\n",
       "  <thead>\n",
       "    <tr style=\"text-align: right;\">\n",
       "      <th></th>\n",
       "      <th>Real Não Hit</th>\n",
       "      <th>Real Hit</th>\n",
       "    </tr>\n",
       "  </thead>\n",
       "  <tbody>\n",
       "    <tr>\n",
       "      <th>Previsto Não Hit</th>\n",
       "      <td>541</td>\n",
       "      <td>106</td>\n",
       "    </tr>\n",
       "    <tr>\n",
       "      <th>Previsto Hit</th>\n",
       "      <td>114</td>\n",
       "      <td>519</td>\n",
       "    </tr>\n",
       "  </tbody>\n",
       "</table>\n",
       "</div>"
      ],
      "text/plain": [
       "                  Real Não Hit  Real Hit\n",
       "Previsto Não Hit           541       106\n",
       "Previsto Hit               114       519"
      ]
     },
     "execution_count": 47,
     "metadata": {},
     "output_type": "execute_result"
    }
   ],
   "source": [
    "from sklearn.metrics import confusion_matrix #matriz de confusão\n",
    "pd.DataFrame(confusion_matrix(y_test,y_pred),\n",
    "             index=['Previsto Não Hit', 'Previsto Hit'],\n",
    "             columns=['Real Não Hit', 'Real Hit'])\n",
    "             "
   ]
  },
  {
   "cell_type": "code",
   "execution_count": null,
   "metadata": {},
   "outputs": [],
   "source": []
  }
 ],
 "metadata": {
  "colab": {
   "name": "Prevendo um Hit da Billboard.ipynb",
   "provenance": []
  },
  "kernelspec": {
   "display_name": "Python 3",
   "language": "python",
   "name": "python3"
  },
  "language_info": {
   "codemirror_mode": {
    "name": "ipython",
    "version": 3
   },
   "file_extension": ".py",
   "mimetype": "text/x-python",
   "name": "python",
   "nbconvert_exporter": "python",
   "pygments_lexer": "ipython3",
   "version": "3.7.6"
  }
 },
 "nbformat": 4,
 "nbformat_minor": 1
}
